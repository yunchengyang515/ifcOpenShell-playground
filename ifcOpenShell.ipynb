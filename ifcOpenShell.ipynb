{
 "cells": [
  {
   "cell_type": "code",
   "execution_count": null,
   "metadata": {},
   "outputs": [],
   "source": [
    "%pip install ifcopenshell\n",
    "%pip install lark numpy ## some package missing in the ifcopenshell"
   ]
  },
  {
   "cell_type": "code",
   "execution_count": 1,
   "metadata": {},
   "outputs": [],
   "source": [
    "import ifcopenshell\n",
    "model = ifcopenshell.open('./AC20-FZK-Haus.ifc')"
   ]
  },
  {
   "cell_type": "code",
   "execution_count": 2,
   "metadata": {},
   "outputs": [
    {
     "name": "stdout",
     "output_type": "stream",
     "text": [
      "IFC4\n"
     ]
    }
   ],
   "source": [
    "print(model.schema)"
   ]
  },
  {
   "cell_type": "code",
   "execution_count": 3,
   "metadata": {},
   "outputs": [
    {
     "name": "stdout",
     "output_type": "stream",
     "text": [
      "#15042=IfcWallStandardCase('2XPyKWY018sA1ygZKgQPtU',#12,'Wand-Int-ERDG-4',$,$,#14983,#15037,'BC6F0F70-6195-495E-A2-FC-239713029DB1',$)\n"
     ]
    }
   ],
   "source": [
    "walls = model.by_type('IfcWall')\n",
    "print(walls[0])"
   ]
  },
  {
   "cell_type": "code",
   "execution_count": 16,
   "metadata": {},
   "outputs": [],
   "source": [
    "\n",
    "import ifcopenshell.util.selector\n",
    "wall_elements = ifcopenshell.util.selector.filter_elements(model, \"IfcWall, IfcSlab\")\n"
   ]
  },
  {
   "cell_type": "code",
   "execution_count": 24,
   "metadata": {},
   "outputs": [],
   "source": [
    "# Function to get material names\n",
    "def get_materials(element):\n",
    "    materials = []\n",
    "    for rel in element.HasAssociations:\n",
    "        if rel.is_a(\"IfcRelAssociatesMaterial\"):\n",
    "            material = rel.RelatingMaterial\n",
    "            if material.is_a(\"IfcMaterial\"):\n",
    "                materials.append(material.Name)\n",
    "            elif material.is_a(\"IfcMaterialList\"):\n",
    "                materials += [mat.Name for mat in material.Materials]\n",
    "            elif material.is_a(\"IfcMaterialLayerSetUsage\"):\n",
    "                materials.append(material.ForLayerSet.MaterialLayers[0].Material.Name)\n",
    "    return materials\n",
    "\n",
    "# Function to get dimensions (simplified example, actual extraction might be more complex)\n",
    "def get_dimensions(element):\n",
    "    # This is a simplified example. You'd need to adapt this logic based on the element type\n",
    "    # and how dimensions are stored in your specific IFC files.\n",
    "    if element.is_a(\"IfcWallStandardCase\"):\n",
    "        # Extract dimensions for a standard wall as an example\n",
    "        length = element.OverallWidth\n",
    "        height = element.OverallHeight\n",
    "        return {\"length\": length, \"height\": height}\n",
    "    return {}"
   ]
  },
  {
   "cell_type": "code",
   "execution_count": 28,
   "metadata": {},
   "outputs": [
    {
     "name": "stdout",
     "output_type": "stream",
     "text": [
      "Element ID: 25fsbPyk15VvuXI$yNKenK, Type: IfcWallStandardCase, Materials: ['Leichtbeton 102890359']\n",
      "Element ID: 16DNNqzfP2thtfaOflvsKA, Type: IfcWallStandardCase, Materials: ['Leichtbeton 102890359']\n",
      "Element ID: 3jjW3rL656ex34Gws22EfM, Type: IfcWallStandardCase, Materials: ['Leichtbeton 102890359']\n",
      "Element ID: 1bzfVsJqn8De5PukCrqylz, Type: IfcWallStandardCase, Materials: ['Leichtbeton 102890359']\n",
      "Element ID: 3rPX_Juz59peXXY6wDJl18, Type: IfcWallStandardCase, Materials: ['Leichtbeton 102890359']\n",
      "Element ID: 1pPHnf7cXCpPsNEnQf8_6B, Type: IfcSlab, Materials: ['Stahlbeton 65690']\n",
      "Element ID: 25OWQvmXj5BPgyergP43tY, Type: IfcWallStandardCase, Materials: ['Leichtbeton 102890359']\n",
      "Element ID: 2XPyKWY018sA1ygZKgQPtU, Type: IfcWallStandardCase, Materials: ['Leichtbeton 102890359']\n",
      "Element ID: 1$wmdwWPjDYuku_ghVkynE, Type: IfcWallStandardCase, Materials: ['Leichtbeton 102890359']\n",
      "Element ID: 0knNIAVBPBFvBy_m5QVHsU, Type: IfcWallStandardCase, Materials: ['Leichtbeton 102890359']\n",
      "Element ID: 3PfS__Y_DBAfq5naM6zD2Z, Type: IfcWallStandardCase, Materials: ['Leichtbeton 102890359']\n",
      "Element ID: 2RGlQk4xH47RHK93zcTzUL, Type: IfcSlab, Materials: ['Solid 397409098']\n",
      "Element ID: 3Ttjr$59XEWfWN1WUHjelZ, Type: IfcWallStandardCase, Materials: ['Leichtbeton 102890359']\n",
      "Element ID: 07Enbsqm9C7AQC9iyBwfSD, Type: IfcSlab, Materials: ['Solid 397409098']\n",
      "Element ID: 2ptk1k7qn8_Qk22vjh$0DE, Type: IfcWallStandardCase, Materials: ['Leichtbeton 102890359']\n",
      "Element ID: 3VCarUKgH1buLo22Ozxe6J, Type: IfcWallStandardCase, Materials: ['Leichtbeton 102890359']\n",
      "Element ID: 2IxUUNUVPB6Ob$eicCfP2N, Type: IfcSlab, Materials: ['Solid 397409098']\n"
     ]
    }
   ],
   "source": [
    "material_thickness_list = []\n",
    "for wall in wall_elements:\n",
    "    materials = get_materials(wall)\n",
    "    \n",
    "    print(f\"Element ID: {wall.GlobalId}, Type: {wall.is_a()}, Materials: {materials}\")"
   ]
  },
  {
   "cell_type": "code",
   "execution_count": null,
   "metadata": {},
   "outputs": [],
   "source": []
  }
 ],
 "metadata": {
  "kernelspec": {
   "display_name": ".venv",
   "language": "python",
   "name": "python3"
  },
  "language_info": {
   "codemirror_mode": {
    "name": "ipython",
    "version": 3
   },
   "file_extension": ".py",
   "mimetype": "text/x-python",
   "name": "python",
   "nbconvert_exporter": "python",
   "pygments_lexer": "ipython3",
   "version": "3.9.6"
  }
 },
 "nbformat": 4,
 "nbformat_minor": 2
}
