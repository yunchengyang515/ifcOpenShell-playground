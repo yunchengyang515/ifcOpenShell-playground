{
 "cells": [
  {
   "cell_type": "code",
   "execution_count": 2,
   "metadata": {},
   "outputs": [
    {
     "name": "stdout",
     "output_type": "stream",
     "text": [
      "Requirement already satisfied: ifcopenshell in ./.venv/lib/python3.9/site-packages (0.7.0.231218)\n",
      "Note: you may need to restart the kernel to use updated packages.\n",
      "Requirement already satisfied: lark in ./.venv/lib/python3.9/site-packages (1.1.9)\n",
      "Requirement already satisfied: numpy in ./.venv/lib/python3.9/site-packages (1.26.4)\n",
      "Note: you may need to restart the kernel to use updated packages.\n"
     ]
    }
   ],
   "source": [
    "%pip install ifcopenshell\n",
    "%pip install lark numpy ## some package missing in the ifcopenshell"
   ]
  },
  {
   "cell_type": "code",
   "execution_count": 3,
   "metadata": {},
   "outputs": [],
   "source": [
    "import ifcopenshell\n",
    "model = ifcopenshell.open('./AC20-FZK-Haus.ifc')"
   ]
  },
  {
   "cell_type": "code",
   "execution_count": 4,
   "metadata": {},
   "outputs": [
    {
     "name": "stdout",
     "output_type": "stream",
     "text": [
      "IFC4\n"
     ]
    }
   ],
   "source": [
    "print(model.schema)"
   ]
  },
  {
   "cell_type": "code",
   "execution_count": 5,
   "metadata": {},
   "outputs": [
    {
     "name": "stdout",
     "output_type": "stream",
     "text": [
      "#15042=IfcWallStandardCase('2XPyKWY018sA1ygZKgQPtU',#12,'Wand-Int-ERDG-4',$,$,#14983,#15037,'BC6F0F70-6195-495E-A2-FC-239713029DB1',$)\n"
     ]
    }
   ],
   "source": [
    "walls = model.by_type('IfcWall')\n",
    "print(walls[0])"
   ]
  },
  {
   "cell_type": "code",
   "execution_count": 6,
   "metadata": {},
   "outputs": [],
   "source": [
    "\n",
    "import ifcopenshell.util.selector\n",
    "wall_elements = ifcopenshell.util.selector.filter_elements(model, \"IfcWall, IfcSlab\")\n"
   ]
  },
  {
   "cell_type": "code",
   "execution_count": 7,
   "metadata": {},
   "outputs": [],
   "source": [
    "# Function to get material names\n",
    "def get_materials(element):\n",
    "    materials = []\n",
    "    for rel in element.HasAssociations:\n",
    "        if rel.is_a(\"IfcRelAssociatesMaterial\"):\n",
    "            material = rel.RelatingMaterial\n",
    "            if material.is_a(\"IfcMaterial\"):\n",
    "                materials.append(material.Name)\n",
    "            elif material.is_a(\"IfcMaterialList\"):\n",
    "                materials += [mat.Name for mat in material.Materials]\n",
    "            elif material.is_a(\"IfcMaterialLayerSetUsage\"):\n",
    "                materials.append(material.ForLayerSet.MaterialLayers[0].Material.Name)\n",
    "    return materials\n",
    "\n",
    "# Function to get dimensions (simplified example, actual extraction might be more complex)\n",
    "def get_dimensions(element):\n",
    "    # This is a simplified example. You'd need to adapt this logic based on the element type\n",
    "    # and how dimensions are stored in your specific IFC files.\n",
    "    if element.is_a(\"IfcWallStandardCase\"):\n",
    "        # Extract dimensions for a standard wall as an example\n",
    "        length = element.OverallWidth\n",
    "        height = element.OverallHeight\n",
    "        return {\"length\": length, \"height\": height}\n",
    "    return {}"
   ]
  },
  {
   "cell_type": "code",
   "execution_count": 8,
   "metadata": {},
   "outputs": [
    {
     "name": "stdout",
     "output_type": "stream",
     "text": [
      "Element ID: 25fsbPyk15VvuXI$yNKenK, Type: IfcWallStandardCase, Materials: ['Leichtbeton 102890359']\n",
      "Element ID: 16DNNqzfP2thtfaOflvsKA, Type: IfcWallStandardCase, Materials: ['Leichtbeton 102890359']\n",
      "Element ID: 1bzfVsJqn8De5PukCrqylz, Type: IfcWallStandardCase, Materials: ['Leichtbeton 102890359']\n",
      "Element ID: 25OWQvmXj5BPgyergP43tY, Type: IfcWallStandardCase, Materials: ['Leichtbeton 102890359']\n",
      "Element ID: 2XPyKWY018sA1ygZKgQPtU, Type: IfcWallStandardCase, Materials: ['Leichtbeton 102890359']\n",
      "Element ID: 3rPX_Juz59peXXY6wDJl18, Type: IfcWallStandardCase, Materials: ['Leichtbeton 102890359']\n",
      "Element ID: 1pPHnf7cXCpPsNEnQf8_6B, Type: IfcSlab, Materials: ['Stahlbeton 65690']\n",
      "Element ID: 3PfS__Y_DBAfq5naM6zD2Z, Type: IfcWallStandardCase, Materials: ['Leichtbeton 102890359']\n",
      "Element ID: 0knNIAVBPBFvBy_m5QVHsU, Type: IfcWallStandardCase, Materials: ['Leichtbeton 102890359']\n",
      "Element ID: 07Enbsqm9C7AQC9iyBwfSD, Type: IfcSlab, Materials: ['Solid 397409098']\n",
      "Element ID: 1$wmdwWPjDYuku_ghVkynE, Type: IfcWallStandardCase, Materials: ['Leichtbeton 102890359']\n",
      "Element ID: 2RGlQk4xH47RHK93zcTzUL, Type: IfcSlab, Materials: ['Solid 397409098']\n",
      "Element ID: 3Ttjr$59XEWfWN1WUHjelZ, Type: IfcWallStandardCase, Materials: ['Leichtbeton 102890359']\n",
      "Element ID: 2ptk1k7qn8_Qk22vjh$0DE, Type: IfcWallStandardCase, Materials: ['Leichtbeton 102890359']\n",
      "Element ID: 3jjW3rL656ex34Gws22EfM, Type: IfcWallStandardCase, Materials: ['Leichtbeton 102890359']\n",
      "Element ID: 3VCarUKgH1buLo22Ozxe6J, Type: IfcWallStandardCase, Materials: ['Leichtbeton 102890359']\n",
      "Element ID: 2IxUUNUVPB6Ob$eicCfP2N, Type: IfcSlab, Materials: ['Solid 397409098']\n"
     ]
    }
   ],
   "source": [
    "material_thickness_list = []\n",
    "for wall in wall_elements:\n",
    "    materials = get_materials(wall)\n",
    "    \n",
    "    print(f\"Element ID: {wall.GlobalId}, Type: {wall.is_a()}, Materials: {materials}\")"
   ]
  },
  {
   "cell_type": "code",
   "execution_count": 11,
   "metadata": {},
   "outputs": [
    {
     "name": "stdout",
     "output_type": "stream",
     "text": [
      "{14521: {'name': 'Holz', 'used_in': []}, 15046: {'name': 'Leichtbeton 102890359', 'used_in': []}, 20378: {'name': 'Radial Gradient Fill 1515460218', 'used_in': []}, 34513: {'name': 'Stahlbeton 65690', 'used_in': []}, 35176: {'name': 'Solid', 'used_in': []}, 59294: {'name': 'Solid 397409098', 'used_in': []}}\n"
     ]
    }
   ],
   "source": [
    "## Getting all materials\n",
    "def find_materials(ifc_file):\n",
    "    materials = {}\n",
    "    for material in ifc_file.by_type(\"IfcMaterial\"):\n",
    "        materials[material.id()] = {\"name\": material.Name, \"used_in\": []}\n",
    "    return materials\n",
    "\n"
   ]
  },
  {
   "cell_type": "code",
   "execution_count": 14,
   "metadata": {},
   "outputs": [],
   "source": [
    "# Function to find where materials are used\n",
    "def find_material_usage(ifc_file, materials):\n",
    "    for relAssociatesMaterial in ifc_file.by_type(\"IfcRelAssociatesMaterial\"):\n",
    "        material_definition = relAssociatesMaterial.RelatingMaterial\n",
    "        if material_definition.is_a(\"IfcMaterial\"):\n",
    "            material_id = material_definition.id()\n",
    "            if material_id in materials:\n",
    "                for relatedObject in relAssociatesMaterial.RelatedObjects:\n",
    "                    materials[material_id][\"used_in\"].append((relatedObject.is_a(), relatedObject.GlobalId))\n",
    "        elif material_definition.is_a(\"IfcMaterialList\") or material_definition.is_a(\"IfcMaterialLayerSetUsage\"):\n",
    "            # Handling for material lists and layer sets if needed\n",
    "            pass\n",
    "    return materials"
   ]
  },
  {
   "cell_type": "code",
   "execution_count": 15,
   "metadata": {},
   "outputs": [
    {
     "name": "stdout",
     "output_type": "stream",
     "text": [
      "{14521: {'name': 'Holz', 'used_in': [('IfcStair', '38a9vdh9bF5Qg28GWyHhlr')]}, 15046: {'name': 'Leichtbeton 102890359', 'used_in': []}, 20378: {'name': 'Radial Gradient Fill 1515460218', 'used_in': [('IfcBeam', '3tCgZT92j6fw8fXgwCL3Jm')]}, 34513: {'name': 'Stahlbeton 65690', 'used_in': []}, 35176: {'name': 'Solid', 'used_in': [('IfcMember', '0oTQ6V1VbChulreA_hfmUa'), ('IfcMember', '1tpUOcVEPCGgFqSz0VbniQ'), ('IfcMember', '1ulHlNTuj798Os3k9phhVC'), ('IfcMember', '1OckORehXEoB_KILQGJao5'), ('IfcMember', '0nsN_jkIrBQBuGFMg_zMEg'), ('IfcMember', '31Quw2HAvFqv$9_JgCuemp'), ('IfcMember', '35W3cFc4L7MhJR0gIk9uis'), ('IfcMember', '3F58AqxJfF$QkuoceQhWg3'), ('IfcMember', '1nGDFBBHvBJ9NmlweQO0fX'), ('IfcMember', '3qFc3Wrr9BBPJyb2wB$4Ra'), ('IfcMember', '37ab3q_iz8XRterfnMKTQX'), ('IfcMember', '3xdLwxTMD7bw4hWoOQL41M'), ('IfcMember', '2OHMT7B69F5PRG_f3rMcjF'), ('IfcMember', '34zPS2PUTBDOe7g7RIRXK0'), ('IfcMember', '0VzptM87L6uOjQj08tTXIQ'), ('IfcMember', '2CxE0$jXr8iOH1VC2gLCXX'), ('IfcMember', '3sG$iUZAX499eUK87UfZk_'), ('IfcMember', '0q1clcN4jF4gdikC9OySy7'), ('IfcMember', '36KGWr2Rv8QuUhNnocm2nH'), ('IfcBeam', '0eaC0nL3XAOfFxRXK_2iAr'), ('IfcMember', '0OKCG9uG53i9K16_x3YNfz'), ('IfcMember', '3ePWkSzvLApwXTt3b0I2nV'), ('IfcMember', '09OmJpUcj4WvNp2dXHFMWj'), ('IfcMember', '3iSL8frGLDweFar9j4zgJ_'), ('IfcMember', '23pmL_2aH88OVqWp_5Lfkf'), ('IfcMember', '06JZMOVBX8VucSQwQ3o$8d'), ('IfcMember', '31ry3UPYD7weLluBlhQxXZ'), ('IfcMember', '20AsUDMgH0JwAitydKgsOm'), ('IfcMember', '2SfSpj_pX9nvTeCOxeKqTd'), ('IfcMember', '17MHCgVYn2YPLX56yXUJbL'), ('IfcMember', '2XyYurmzzDOAIoZ52R97Jm'), ('IfcMember', '0hRh9WB$jCLwlAiq3vfmg9'), ('IfcMember', '1NBDw_i_jD$u7IjvwmbPmx'), ('IfcMember', '2DH$OLoObDkAtwqVzNdUnS'), ('IfcMember', '1qMEiq1Qz6guq8g1GCODiJ'), ('IfcMember', '2AxITdtlD1h9Y3ye8U93bV'), ('IfcMember', '0DTRkEz0r6gvzG6VdDr24n'), ('IfcMember', '3UTqpydzf7i8J6iMY2tHil'), ('IfcMember', '3CS1rsE3bB7vMHAdjyaamh'), ('IfcMember', '2jBFZiQw110vV7XY77KKfx'), ('IfcMember', '22oN_bO9T4jO5eG4GKW7be'), ('IfcMember', '2in0QvfYXEawl1f3MP1bq2'), ('IfcBeam', '3jZHeNcfvDMf9wG$wx9XqG'), ('IfcBeam', '20bTaetQDApP5w8egFxj13'), ('IfcMember', '3EgsECVVb6zQXnK3YFcWAu'), ('IfcRailing', '0o5vgCKyTBzO5$QJcI2YDP'), ('IfcRailing', '09axaKU7X1_O8n6dmmiZ1E')]}, 59294: {'name': 'Solid 397409098', 'used_in': []}}\n"
     ]
    }
   ],
   "source": [
    "materials = find_materials(model)\n",
    "\n",
    "# Find where each material is used\n",
    "materials = find_material_usage(model, materials)\n",
    "\n",
    "print(materials)\n"
   ]
  },
  {
   "cell_type": "code",
   "execution_count": null,
   "metadata": {},
   "outputs": [],
   "source": []
  }
 ],
 "metadata": {
  "kernelspec": {
   "display_name": ".venv",
   "language": "python",
   "name": "python3"
  },
  "language_info": {
   "codemirror_mode": {
    "name": "ipython",
    "version": 3
   },
   "file_extension": ".py",
   "mimetype": "text/x-python",
   "name": "python",
   "nbconvert_exporter": "python",
   "pygments_lexer": "ipython3",
   "version": "3.9.6"
  }
 },
 "nbformat": 4,
 "nbformat_minor": 2
}
