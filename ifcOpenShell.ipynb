{
 "cells": [
  {
   "cell_type": "code",
   "execution_count": 2,
   "metadata": {},
   "outputs": [
    {
     "name": "stdout",
     "output_type": "stream",
     "text": [
      "Requirement already satisfied: ifcopenshell in ./.venv/lib/python3.9/site-packages (0.7.0.231218)\n",
      "Note: you may need to restart the kernel to use updated packages.\n",
      "Requirement already satisfied: lark in ./.venv/lib/python3.9/site-packages (1.1.9)\n",
      "Requirement already satisfied: numpy in ./.venv/lib/python3.9/site-packages (1.26.4)\n",
      "Note: you may need to restart the kernel to use updated packages.\n"
     ]
    }
   ],
   "source": [
    "%pip install ifcopenshell\n",
    "%pip install lark numpy ## some package missing in the ifcopenshell"
   ]
  },
  {
   "cell_type": "code",
   "execution_count": 1,
   "metadata": {},
   "outputs": [],
   "source": [
    "file_path = 'AC20-FZK-Haus.ifc'"
   ]
  },
  {
   "cell_type": "code",
   "execution_count": 4,
   "metadata": {},
   "outputs": [
    {
     "name": "stdout",
     "output_type": "stream",
     "text": [
      "[#14521=IfcMaterial('Holz',$,$), #15046=IfcMaterial('Leichtbeton 102890359',$,$), #20378=IfcMaterial('Radial Gradient Fill 1515460218',$,$), #34513=IfcMaterial('Stahlbeton 65690',$,$), #35176=IfcMaterial('Solid',$,$), #59294=IfcMaterial('Solid 397409098',$,$)]\n",
      "[#15069=IfcMaterialLayerSet((#15067),'Leichtbeton 102890359 0.24',$), #21971=IfcMaterialLayerSet((#21970),'Leichtbeton 102890359 0.3',$), #34527=IfcMaterialLayerSet((#34526),'Stahlbeton 65690 0.2',$), #59316=IfcMaterialLayerSet((#59315),'Solid 397409098 0.2',$)]\n",
      "[#15072=IfcMaterialLayerSetUsage(#15069,.AXIS2.,.NEGATIVE.,0.,$), #17044=IfcMaterialLayerSetUsage(#15069,.AXIS2.,.POSITIVE.,-0.,$), #18469=IfcMaterialLayerSetUsage(#15069,.AXIS2.,.POSITIVE.,-0.,$), #18702=IfcMaterialLayerSetUsage(#15069,.AXIS2.,.POSITIVE.,-0.,$), #20602=IfcMaterialLayerSetUsage(#15069,.AXIS2.,.NEGATIVE.,0.,$), #21974=IfcMaterialLayerSetUsage(#21971,.AXIS2.,.NEGATIVE.,0.,$), #27425=IfcMaterialLayerSetUsage(#21971,.AXIS2.,.NEGATIVE.,0.,$), #31474=IfcMaterialLayerSetUsage(#21971,.AXIS2.,.NEGATIVE.,0.,$), #32411=IfcMaterialLayerSetUsage(#21971,.AXIS2.,.NEGATIVE.,0.,$), #34530=IfcMaterialLayerSetUsage(#34527,.AXIS3.,.NEGATIVE.,0.2,$), #59319=IfcMaterialLayerSetUsage(#59316,.AXIS3.,.NEGATIVE.,0.2,$), #59557=IfcMaterialLayerSetUsage(#59316,.AXIS3.,.NEGATIVE.,0.2,$), #59757=IfcMaterialLayerSetUsage(#59316,.AXIS3.,.NEGATIVE.,0.2,$), #60016=IfcMaterialLayerSetUsage(#21971,.AXIS2.,.NEGATIVE.,0.,$), #67540=IfcMaterialLayerSetUsage(#21971,.AXIS2.,.NEGATIVE.,0.,$), #67832=IfcMaterialLayerSetUsage(#21971,.AXIS2.,.NEGATIVE.,0.,$), #75351=IfcMaterialLayerSetUsage(#21971,.AXIS2.,.NEGATIVE.,0.,$)]\n"
     ]
    }
   ],
   "source": [
    "from utils import get_materials, get_material_layer_sets, get_material_layer_set_usages\n",
    "import ifcopenshell\n",
    "model = ifcopenshell.open(file_path)\n",
    "materials = get_materials(model)\n",
    "materialSets = get_material_layer_sets(model)\n",
    "materialSetUsages = get_material_layer_set_usages(model)\n",
    "\n",
    "print(materials)\n",
    "print(materialSets)\n",
    "print(materialSetUsages)"
   ]
  },
  {
   "cell_type": "code",
   "execution_count": 5,
   "metadata": {},
   "outputs": [
    {
     "name": "stdout",
     "output_type": "stream",
     "text": [
      "[#14502=IfcStair('38a9vdh9bF5Qg28GWyHhlr',#12,'Wendeltreppe',$,$,#502,#14498,'79A67A01-C95B-4209-86-9A-74983B65305C',$), #15042=IfcWallStandardCase('2XPyKWY018sA1ygZKgQPtU',#12,'Wand-Int-ERDG-4',$,$,#14983,#15037,'BC6F0F70-6195-495E-A2-FC-239713029DB1',$), #17040=IfcWallStandardCase('3PfS__Y_DBAfq5naM6zD2Z',#12,'Wand-Int-ERDG-2',$,$,#16993,#17035,'40F78310-9E7E-4793-BC-9E-DB102FD72B73',$), #17106=IfcOpeningElement('0LM8GvGe$G3dlW4mZ4aA9R',#12,'Innentuer-1',$,$,#17061,#17102,'15588439-428F-D00E-7BE0-1308C490A25B',$), #17468=IfcDoor('1Oms875aH3Wg$9l65H2ZGw',#12,'Innentuer-1',$,$,#17302,#17464,'E605AACB-6C4E-458D-93-46-5D9D8C7C21D3',2.01,0.885,$,$,$), #18465=IfcWallStandardCase('2ptk1k7qn8_Qk22vjh$0DE',#12,'Wand-Int-ERDG-1',$,$,#18418,#18460,'8C826359-B394-49D6-BD-D5-49D50F806B56',$), #18698=IfcWallStandardCase('3jjW3rL656ex34Gws22EfM',#12,'Wand-Int-ERDG-3',$,$,#18651,#18693,'2197C9B9-DEF1-444F-B8-1E-1DB092762AB7',$), #18768=IfcOpeningElement('253rr8ORNAORFOx911Dvez',#12,'Innentuer-2',$,$,#18723,#18764,'850F5D48-61B5-CA61-B3D8-EC9041379A3D',$), #18836=IfcOpeningElement('2lV07gym5YkPLv5gWQeAr4',#12,'Innentuer-3',$,$,#18792,#18832,'AF7C01EA-F301-62B9-9579-16A81AA0AD44',$), #19199=IfcDoor('0pGAjlJMP3ifYPATVF5xAR',#12,'Innentuer-2',$,$,#19029,#19195,'CBFAA406-7368-4C3F-96-65-F3ED0FC60C2F',2.01,0.885,$,$,$), #19504=IfcDoor('2qiPPF3FrF8OIqfrKiSUqm',#12,'Innentuer-3',$,$,#19486,#19500,'12291272-8C4D-42C2-A4-E5-68086A355C33',2.01,0.885,$,$,$), #20374=IfcBeam('3tCgZT92j6fw8fXgwCL3Jm',#12,'Unterzug-1',$,'Radial Gradient Fill 1515460218 200 x 240',#20340,#20370,'EAFC436F-7CDC-482B-8B-93-5FDB86D941A9',$), #20598=IfcWallStandardCase('1$wmdwWPjDYuku_ghVkynE',#12,'Wand-Int-ERDG-5',$,$,#20551,#20593,'623FF5CC-008F-4D9B-BE-AC-E81A16C53080',$), #21966=IfcWallStandardCase('3rPX_Juz59peXXY6wDJl18',#12,'Wand-Ext-ERDG-1',$,$,#21917,#21961,'BEF1E630-DE4B-41C5-AD-66-B87F1A8D67A1',$), #22039=IfcOpeningElement('0seqbT9MlcQAX_K0YLzD86',#12,'EG-Fenster-6',$,$,#21994,#22035,'36A3495D-256B-E668-A87E-500895F4D206',$), #22107=IfcOpeningElement('2NE9qKcWUF2uoVhRSqTd_a',#12,'EG-Fenster-7',$,$,#22063,#22103,'97389D14-9A07-8F0B-8C9F-ADB734767FA4',$), #22174=IfcOpeningElement('04RcXu1mKxpGnJw_7oRBLn',#12,'Haustuer',$,$,#22130,#22170,'046E6878-0705-3BCD-0C53-EBE1F26CB571',$), #23024=IfcWindow('1srAI$R4T8ihLXSNHmUSET',#12,'EG-Fenster-6',$,$,#22372,#23020,'2872C43C-81BB-4535-95-65-B3AC3FB4DE23',1.2,2.,$,$,$), #23944=IfcWindow('0B1RwEzzP3CfME5NR$Vqh5',#12,'EG-Fenster-7',$,$,#23298,#23940,'E5AC7902-7454-439D-AF-DD-A1E5E37A0D08',1.2,2.,$,$,$), #27013=IfcDoor('2jTRqchjf7oB0yhQ6462T0',#12,'Haustuer',$,$,#24218,#27009,'3CAFB746-2204-4C6C-BF-ED-F5FE276FA162',2.01,1.01,$,$,$), #27421=IfcWallStandardCase('16DNNqzfP2thtfaOflvsKA',#12,'Wand-Ext-ERDG-4',$,$,#27374,#27416,'A6C3DE63-3731-4F6A-94-7E-DE8A8295779F',$), #27487=IfcOpeningElement('1c0Yk5iLrVR4e3y5gEUEKa',#12,'EG-Fenster-4',$,$,#27442,#27483,'66022B85-B15D-5F6C-4A03-F05A8E78E524',$), #27555=IfcOpeningElement('2uYaWLoMXGPW4zZLca_BWr',#12,'EG-Fenster-5',$,$,#27511,#27551,'B88A4815-C968-5066-013D-8D59A4F8B835',$), #27622=IfcOpeningElement('1r_KIZSL381KWyrYQXOn52',#12,'Terrassentuer',$,$,#27578,#27618,'75F944A3-7150-C805-483C-D626A1631142',$), #27833=IfcWindow('25nJxEpYf8LRDJNkMUVO0m',#12,'EG-Fenster-4',$,$,#27815,#27829,'436D2D20-7879-42FD-A7-70-F2BECB09D642',1.2,2.,$,$,$), #28113=IfcWindow('3BFcylCsX74PQAoRAe5fNv',#12,'EG-Fenster-5',$,$,#28095,#28109,'EE544359-8729-43CD-AE-E2-4BB37935CFDA',1.2,2.,$,$,$), #31079=IfcDoor('1M$gxUrX1Fiwe3P64ww7U5',#12,'Terrassentuer',$,$,#28375,#31075,'AA410C09-759E-446C-95-DA-CF8531C8625F',2.375,2.01,$,$,$), #31470=IfcWallStandardCase('25fsbPyk15VvuXI$yNKenK',#12,'Wand-Ext-ERDG-3',$,$,#31423,#31465,'D1BD94FD-C699-41C5-B0-98-57167561802A',$), #31539=IfcOpeningElement('2OW0PH61vS77xxyX1o74u8',#12,'EG-Fenster-8',$,$,#31494,#31535,'98800651-181E-5C1C-7EFB-F210721C4E08',$), #31607=IfcOpeningElement('2cFXkmvNz6q8TXoCpAWu5Y',#12,'EG-Fenster-9',$,$,#31563,#31603,'A63E1BB0-E57F-46D0-8761-C8CCCA838162',$), #31818=IfcWindow('13aSY79zb8fP4HApEJ0z_e',#12,'EG-Fenster-8',$,$,#31800,#31814,'8FAFF59C-23BB-48D6-9C-CE-C4F804C53C9A',1.2,2.,$,$,$), #32098=IfcWindow('2EQh_jhP1B_A_AMuSJc5E0',#12,'EG-Fenster-9',$,$,#32080,#32094,'A896A1CB-16B1-4CCD-A5-98-F5C5BC0C37DE',1.2,2.,$,$,$), #32407=IfcWallStandardCase('1bzfVsJqn8De5PukCrqylz',#12,'Wand-Ext-ERDG-2',$,$,#32360,#32402,'74EAE11D-EA09-459E-92-62-5370AED48E8E',$), #32483=IfcOpeningElement('1edW1mWMGQA1AyF6LZE0rZ',#12,'EG-Fenster-1',$,$,#32438,#32479,'689E0070-8164-1A28-12BC-3C6563380D63',$), #32551=IfcOpeningElement('0B6UMAQb_hdSR0n26dQbUu',#12,'EG-Fenster-2',$,$,#32507,#32547,'0B19E58A-6A5F-AB9D-C6C0-C421A76A57B8',$), #32618=IfcOpeningElement('2o6xwVLCqc7RJXOAHbb1iq',#12,'EG-Fenster-3',$,$,#32574,#32614,'B21BBE9F-54CD-261D-B4E1-60A465941B34',$), #32829=IfcWindow('1TAI4ouKX4Xx4lBDZIu5qM',#12,'EG-Fenster-1',$,$,#32811,#32825,'EAC2BE5E-BCD2-474E-95-24-57C652F96BF7',1.2,2.,$,$,$), #33109=IfcWindow('2Q9w7oRXP249jBobEMVqlZ',#12,'EG-Fenster-2',$,$,#33091,#33105,'84B24574-B3EE-412A-A4-33-CE7E10ED2A8D',1.2,2.,$,$,$), #33389=IfcWindow('1DiYqhfzH9xxuJdVHwXCNa',#12,'EG-Fenster-3',$,$,#33371,#33385,'EDE1E333-3D1C-441D-BE-45-790DF31E9DDC',1.2,2.,$,$,$), #34509=IfcSlab('1pPHnf7cXCpPsNEnQf8_6B',#12,'Bodenplatte',$,$,#34464,#34505,'E4D9CD4B-CA43-4735-94-BD-1FD4376BD455',.BASESLAB.), #35169=IfcMember('0oTQ6V1VbChulreA_hfmUa',#12,'Sparren-1',$,$,#35085,#35165,'4E567244-877A-453F-BD-15-E8D98D599364',$), #35304=IfcMember('1tpUOcVEPCGgFqSz0VbniQ',#12,'Sparren-2',$,$,#35287,#35300,'C5F380CE-4BE5-466B-BC-4B-3A944CEE034E',$), #35427=IfcMember('1ulHlNTuj798Os3k9phhVC',#12,'Sparren-3',$,$,#35410,#35423,'6900A38D-6218-470C-AC-22-9AFA78DAFBA8',$), #35550=IfcMember('1OckORehXEoB_KILQGJao5',#12,'Sparren-4',$,$,#35533,#35546,'4C100AD3-729F-46E0-BD-62-DE5D7DA40117',$), #35673=IfcMember('0nsN_jkIrBQBuGFMg_zMEg',#12,'Sparren-5',$,$,#35656,#35669,'3C8A05AD-ECBB-4E09-B7-46-95B6A3DF895C',$), #35796=IfcMember('31Quw2HAvFqv$9_JgCuemp',#12,'Sparren-6',$,$,#35779,#35792,'860FAA0C-B6F9-41C9-B0-FC-435F2488ECA6',$), #35919=IfcMember('35W3cFc4L7MhJR0gIk9uis',#12,'Sparren-7',$,$,#35902,#35915,'3482C9DC-403F-437C-94-B9-0E7ACBDA5DBF',$), #36042=IfcMember('3F58AqxJfF$QkuoceQhWg3',#12,'Sparren-8',$,$,#36025,#36038,'05E9C0F2-246F-4C01-A3-3C-ABB1F44064B4',$), #36165=IfcMember('1nGDFBBHvBJ9NmlweQO0fX',#12,'Sparren-9',$,$,#36148,#36161,'2968F842-8ADC-4770-91-67-18314645959B',$), #36288=IfcMember('3qFc3Wrr9BBPJyb2wB$4Ra',#12,'Sparren-10',$,$,#36271,#36284,'639CABF2-BEEF-41F8-9F-C4-7379CD6756B8',$), #36411=IfcMember('37ab3q_iz8XRterfnMKTQX',#12,'Sparren-11',$,$,#36394,#36407,'1AB90595-0D25-474F-96-60-565DF04537D3',$), #36534=IfcMember('3xdLwxTMD7bw4hWoOQL41M',#12,'Sparren-12',$,$,#36517,#36530,'38A8137C-9D72-40E7-98-54-BAA748BE06F0',$), #36657=IfcMember('2OHMT7B69F5PRG_f3rMcjF',#12,'Sparren-13',$,$,#36640,#36653,'72ECFA45-517E-45A7-A9-F0-58BB40719283',$), #36780=IfcMember('34zPS2PUTBDOe7g7RIRXK0',#12,'Sparren-14',$,$,#36763,#36776,'00000000-0000-0000-00-00-000000000000',$), #36903=IfcMember('0VzptM87L6uOjQj08tTXIQ',#12,'Sparren-15',$,$,#36886,#36899,'BE5019AF-A097-455A-8D-66-DE59506D51CF',$), #37026=IfcMember('2CxE0$jXr8iOH1VC2gLCXX',#12,'Sparren-16',$,$,#37009,#37022,'0EAB97A9-E52A-4D7B-84-E2-0AFFA517A7C3',$), #37149=IfcMember('3sG$iUZAX499eUK87UfZk_',#12,'Sparren-17',$,$,#37132,#37145,'30C22D1D-028D-4B38-BE-CD-BF763016FE7B',$), #37272=IfcMember('0q1clcN4jF4gdikC9OySy7',#12,'Sparren-18',$,$,#37255,#37268,'78E8AC76-2667-4770-91-D7-813BE341C319',$), #37395=IfcMember('36KGWr2Rv8QuUhNnocm2nH',#12,'Sparren-19',$,$,#37378,#37391,'264D278D-153D-4271-87-B7-5ACB8AB7C031',$), #37582=IfcBeam('0eaC0nL3XAOfFxRXK_2iAr',#12,'Pfette-2-1',$,'',#37501,#37578,'542BAFA7-D3B2-4074-B0-AF-859DB4CE679A',$), #37710=IfcMember('0OKCG9uG53i9K16_x3YNfz',#12,'Sparren-20',$,$,#37693,#37706,'ABC5FCBF-447C-455B-8A-94-54C01FF84C7D',$), #37833=IfcMember('3ePWkSzvLApwXTt3b0I2nV',#12,'Sparren-21',$,$,#37816,#37829,'7D626D3E-AA80-4308-86-DA-76F09E2350F5',$), #37956=IfcMember('09OmJpUcj4WvNp2dXHFMWj',#12,'Sparren-22',$,$,#37939,#37952,'478277F6-2A8B-4D9B-A7-C6-59173581CD24',$), #38079=IfcMember('3iSL8frGLDweFar9j4zgJ_',#12,'Sparren-23',$,$,#38062,#38075,'3DB3AE4B-A425-47F3-BB-76-E3009AE09ABB',$), #38202=IfcMember('23pmL_2aH88OVqWp_5Lfkf',#12,'Sparren-24',$,$,#38185,#38198,'1FD04C72-582E-4AB8-B8-09-181F7DD7D62F',$), #38325=IfcMember('06JZMOVBX8VucSQwQ3o$8d',#12,'Sparren-25',$,$,#38308,#38321,'DDE46763-BE57-4EF4-A5-94-B80ED2242C61',$), #38448=IfcMember('31ry3UPYD7weLluBlhQxXZ',#12,'Sparren-26',$,$,#38431,#38444,'CAE5E5C0-4299-44F4-A2-1A-688219A1DA30',$), #38571=IfcMember('20AsUDMgH0JwAitydKgsOm',#12,'Sparren-27',$,$,#38554,#38567,'08446AD9-0161-4E13-8B-5D-20F9D44DB92A',$), #38694=IfcMember('2SfSpj_pX9nvTeCOxeKqTd',#12,'Sparren-28',$,$,#38677,#38690,'29979C4B-420D-4ED2-B5-48-6AE887E69AD4',$), #38817=IfcMember('17MHCgVYn2YPLX56yXUJbL',#12,'Sparren-29',$,$,#38800,#38813,'8B9D9C34-42AA-4C87-A3-E8-C117928F7CD6',$), #38940=IfcMember('2XyYurmzzDOAIoZ52R97Jm',#12,'Sparren-30',$,$,#38923,#38936,'56BAD4E8-0059-4C72-85-8A-9B23D2E15426',$), #39063=IfcMember('0hRh9WB$jCLwlAiq3vfmg9',#12,'Sparren-31',$,$,#39046,#39059,'C9E34584-2109-4676-8F-0C-A5C9428DA4B4',$), #39186=IfcMember('1NBDw_i_jD$u7IjvwmbPmx',#12,'Sparren-32',$,$,#39169,#39182,'62D6313A-B4FB-45BF-B3-97-10D01124A4F9',$), #39309=IfcMember('2DH$OLoObDkAtwqVzNdUnS',#12,'Sparren-33',$,$,#39292,#39305,'E4FF91FA-3AE7-4591-8D-5F-61E57F7BA5DE',$), #39432=IfcMember('1qMEiq1Qz6guq8g1GCODiJ',#12,'Sparren-34',$,$,#39415,#39428,'3A999AF6-1C12-413A-89-B2-BF4A3CAEAD63',$), #39555=IfcMember('2AxITdtlD1h9Y3ye8U93bV',#12,'Sparren-35',$,$,#39538,#39551,'2B89760B-0C8D-4559-A3-B2-5B1635543320',$), #39678=IfcMember('0DTRkEz0r6gvzG6VdDr24n',#12,'Sparren-36',$,$,#39661,#39674,'A4621E86-FF56-40DC-B3-C2-2633C779B3A5',$), #39801=IfcMember('3UTqpydzf7i8J6iMY2tHil',#12,'Sparren-37',$,$,#39784,#39797,'A64DDEB8-B180-474D-B9-AA-2A96A26C443D',$), #39924=IfcMember('3CS1rsE3bB7vMHAdjyaamh',#12,'Sparren-38',$,$,#39907,#39920,'46488648-16DC-44A4-91-12-698B815D6192',$), #40047=IfcMember('2jBFZiQw110vV7XY77KKfx',#12,'Sparren-39',$,$,#40030,#40043,'EC41283A-3BA0-4DB3-BD-68-564054F72630',$), #40170=IfcMember('22oN_bO9T4jO5eG4GKW7be',#12,'Sparren-40',$,$,#40153,#40166,'BC192F3D-2C51-4B28-92-78-5806097A3CB1',$), #40293=IfcMember('2in0QvfYXEawl1f3MP1bq2',#12,'Sparren-41',$,$,#40276,#40289,'6A479A30-3EE6-49CF-80-83-949E8139A87B',$), #40416=IfcBeam('3jZHeNcfvDMf9wG$wx9XqG',#12,'Pfette-1-1',$,'',#40399,#40412,'C8707AC7-4260-4F76-A6-95-7665806B676D',$), #40539=IfcBeam('20bTaetQDApP5w8egFxj13',#12,'First',$,'',#40522,#40535,'C2B602D2-A015-453B-9E-EF-BB998BB27F3B',$), #40662=IfcMember('3EgsECVVb6zQXnK3YFcWAu',#12,'Sparren-42',$,$,#40645,#40658,'21F55D0B-AD74-40D8-A5-20-4365CC35D364',$), #49831=IfcRailing('0o5vgCKyTBzO5$QJcI2YDP',#12,'',$,$,#40768,#49827,'00000000-0000-0000-00-00-000000000000',.HANDRAIL.), #59075=IfcRailing('09axaKU7X1_O8n6dmmiZ1E',#12,'',$,$,#50014,#59071,'00000000-0000-0000-00-00-000000000000',.HANDRAIL.), #59290=IfcSlab('2RGlQk4xH47RHK93zcTzUL',#12,'Slab-033',$,$,#59253,#59286,'DA0A17AC-B773-47AC-99-C5-D390C73AD5CC',.FLOOR.), #59365=IfcOpeningElement('16PF6khT5_p$Z03P73inyv',#12,'Slab Opening',$,$,#59331,#59361,$,$), #59553=IfcSlab('07Enbsqm9C7AQC9iyBwfSD',#12,'Dach-1',$,$,#59508,#59549,'E142B455-80E4-4B96-83-EC-E1589CA998DB',.ROOF.), #59753=IfcSlab('2IxUUNUVPB6Ob$eicCfP2N',#12,'Dach-2',$,$,#59716,#59749,'BD6D9414-37DF-40A8-88-40-301A32A9A5B5',.ROOF.), #60012=IfcWallStandardCase('0knNIAVBPBFvBy_m5QVHsU',#12,'Wand-Ext-OG-1',$,$,#59911,#60007,'7B65A2FF-2B2E-4F49-B4-A1-7B41CF4110EE',$), #60579=IfcOpeningElement('02A6FCU4lrAZ0mm$uvcVpb',#12,'OG-Fenster-2',$,$,#60028,#60575,'022863CC-784B-F52A-3030-C3FE3999FCE5',$), #66459=IfcWindow('1zOBw0Gej5Wf0QAJfHnOc0',#12,'OG-Fenster-2',$,$,#60773,#66455,'FA683FAD-0F01-4AF4-93-87-2834E91204A6',1.,1.,$,$,$), #67536=IfcWallStandardCase('25OWQvmXj5BPgyergP43tY',#12,'Wand-Ext-OG-2',$,$,#67479,#67531,'79A3F0D1-59C9-4AE1-9D-6D-772238A0ECC7',$), #67828=IfcWallStandardCase('3VCarUKgH1buLo22Ozxe6J',#12,'Wand-Ext-OG-3',$,$,#67727,#67823,'5D0903EC-02FE-4DE0-98-05-1D4D15974A41',$), #68400=IfcOpeningElement('0e2iWM3ICUNVYAkmP5YImx',#12,'OG-Fenster-1',$,$,#67849,#68396,'280AC816-0D23-1E5D-F88A-BB0645892C3B',$), #74280=IfcWindow('2ACmFFQhT1Ouf0x4YRUh9m',#12,'OG-Fenster-1',$,$,#68594,#74276,'671AB351-B612-4D9E-BC-6F-DAEBA688142F',1.,1.,$,$,$), #75347=IfcWallStandardCase('3Ttjr$59XEWfWN1WUHjelZ',#12,'Wand-Ext-OG-4',$,$,#75290,#75342,'C0070317-136B-4A93-BD-CC-3B8478F23A5C',$), #77324=IfcVirtualElement('2O1epMSyD6ol5XOFRviRIZ',#12,$,$,$,#77323,$,$), #77395=IfcVirtualElement('0wuj6ac_Rv$ZYWzILFrlw0',#12,$,$,$,#77394,$,$), #77636=IfcVirtualElement('3x5bWRj6N6PhHPHxSQnO1r',#12,$,$,$,#77635,$,$)]\n"
     ]
    }
   ],
   "source": [
    "elements = model.by_type('IfcElement')\n",
    "print(elements)"
   ]
  },
  {
   "cell_type": "code",
   "execution_count": 11,
   "metadata": {},
   "outputs": [
    {
     "name": "stdout",
     "output_type": "stream",
     "text": [
      "#14521=IfcMaterial('Holz',$,$)\n",
      "(#14502=IfcStair('38a9vdh9bF5Qg28GWyHhlr',#12,'Wendeltreppe',$,$,#502,#14498,'79A67A01-C95B-4209-86-9A-74983B65305C',$),)\n",
      "#15072=IfcMaterialLayerSetUsage(#15069,.AXIS2.,.NEGATIVE.,0.,$)\n",
      "(#15042=IfcWallStandardCase('2XPyKWY018sA1ygZKgQPtU',#12,'Wand-Int-ERDG-4',$,$,#14983,#15037,'BC6F0F70-6195-495E-A2-FC-239713029DB1',$),)\n",
      "#17044=IfcMaterialLayerSetUsage(#15069,.AXIS2.,.POSITIVE.,-0.,$)\n",
      "(#17040=IfcWallStandardCase('3PfS__Y_DBAfq5naM6zD2Z',#12,'Wand-Int-ERDG-2',$,$,#16993,#17035,'40F78310-9E7E-4793-BC-9E-DB102FD72B73',$),)\n",
      "#17475=IfcMaterialList((#14521))\n",
      "(#17468=IfcDoor('1Oms875aH3Wg$9l65H2ZGw',#12,'Innentuer-1',$,$,#17302,#17464,'E605AACB-6C4E-458D-93-46-5D9D8C7C21D3',2.01,0.885,$,$,$), #19199=IfcDoor('0pGAjlJMP3ifYPATVF5xAR',#12,'Innentuer-2',$,$,#19029,#19195,'CBFAA406-7368-4C3F-96-65-F3ED0FC60C2F',2.01,0.885,$,$,$), #19504=IfcDoor('2qiPPF3FrF8OIqfrKiSUqm',#12,'Innentuer-3',$,$,#19486,#19500,'12291272-8C4D-42C2-A4-E5-68086A355C33',2.01,0.885,$,$,$), #23024=IfcWindow('1srAI$R4T8ihLXSNHmUSET',#12,'EG-Fenster-6',$,$,#22372,#23020,'2872C43C-81BB-4535-95-65-B3AC3FB4DE23',1.2,2.,$,$,$), #23944=IfcWindow('0B1RwEzzP3CfME5NR$Vqh5',#12,'EG-Fenster-7',$,$,#23298,#23940,'E5AC7902-7454-439D-AF-DD-A1E5E37A0D08',1.2,2.,$,$,$), #27833=IfcWindow('25nJxEpYf8LRDJNkMUVO0m',#12,'EG-Fenster-4',$,$,#27815,#27829,'436D2D20-7879-42FD-A7-70-F2BECB09D642',1.2,2.,$,$,$), #28113=IfcWindow('3BFcylCsX74PQAoRAe5fNv',#12,'EG-Fenster-5',$,$,#28095,#28109,'EE544359-8729-43CD-AE-E2-4BB37935CFDA',1.2,2.,$,$,$), #31818=IfcWindow('13aSY79zb8fP4HApEJ0z_e',#12,'EG-Fenster-8',$,$,#31800,#31814,'8FAFF59C-23BB-48D6-9C-CE-C4F804C53C9A',1.2,2.,$,$,$), #32098=IfcWindow('2EQh_jhP1B_A_AMuSJc5E0',#12,'EG-Fenster-9',$,$,#32080,#32094,'A896A1CB-16B1-4CCD-A5-98-F5C5BC0C37DE',1.2,2.,$,$,$), #32829=IfcWindow('1TAI4ouKX4Xx4lBDZIu5qM',#12,'EG-Fenster-1',$,$,#32811,#32825,'EAC2BE5E-BCD2-474E-95-24-57C652F96BF7',1.2,2.,$,$,$), #33109=IfcWindow('2Q9w7oRXP249jBobEMVqlZ',#12,'EG-Fenster-2',$,$,#33091,#33105,'84B24574-B3EE-412A-A4-33-CE7E10ED2A8D',1.2,2.,$,$,$), #33389=IfcWindow('1DiYqhfzH9xxuJdVHwXCNa',#12,'EG-Fenster-3',$,$,#33371,#33385,'EDE1E333-3D1C-441D-BE-45-790DF31E9DDC',1.2,2.,$,$,$))\n",
      "#18469=IfcMaterialLayerSetUsage(#15069,.AXIS2.,.POSITIVE.,-0.,$)\n",
      "(#18465=IfcWallStandardCase('2ptk1k7qn8_Qk22vjh$0DE',#12,'Wand-Int-ERDG-1',$,$,#18418,#18460,'8C826359-B394-49D6-BD-D5-49D50F806B56',$),)\n",
      "#18702=IfcMaterialLayerSetUsage(#15069,.AXIS2.,.POSITIVE.,-0.,$)\n",
      "(#18698=IfcWallStandardCase('3jjW3rL656ex34Gws22EfM',#12,'Wand-Int-ERDG-3',$,$,#18651,#18693,'2197C9B9-DEF1-444F-B8-1E-1DB092762AB7',$),)\n",
      "#20378=IfcMaterial('Radial Gradient Fill 1515460218',$,$)\n",
      "(#20374=IfcBeam('3tCgZT92j6fw8fXgwCL3Jm',#12,'Unterzug-1',$,'Radial Gradient Fill 1515460218 200 x 240',#20340,#20370,'EAFC436F-7CDC-482B-8B-93-5FDB86D941A9',$),)\n",
      "#20602=IfcMaterialLayerSetUsage(#15069,.AXIS2.,.NEGATIVE.,0.,$)\n",
      "(#20598=IfcWallStandardCase('1$wmdwWPjDYuku_ghVkynE',#12,'Wand-Int-ERDG-5',$,$,#20551,#20593,'623FF5CC-008F-4D9B-BE-AC-E81A16C53080',$),)\n",
      "#21974=IfcMaterialLayerSetUsage(#21971,.AXIS2.,.NEGATIVE.,0.,$)\n",
      "(#21966=IfcWallStandardCase('3rPX_Juz59peXXY6wDJl18',#12,'Wand-Ext-ERDG-1',$,$,#21917,#21961,'BEF1E630-DE4B-41C5-AD-66-B87F1A8D67A1',$),)\n",
      "#27425=IfcMaterialLayerSetUsage(#21971,.AXIS2.,.NEGATIVE.,0.,$)\n",
      "(#27421=IfcWallStandardCase('16DNNqzfP2thtfaOflvsKA',#12,'Wand-Ext-ERDG-4',$,$,#27374,#27416,'A6C3DE63-3731-4F6A-94-7E-DE8A8295779F',$),)\n",
      "#31474=IfcMaterialLayerSetUsage(#21971,.AXIS2.,.NEGATIVE.,0.,$)\n",
      "(#31470=IfcWallStandardCase('25fsbPyk15VvuXI$yNKenK',#12,'Wand-Ext-ERDG-3',$,$,#31423,#31465,'D1BD94FD-C699-41C5-B0-98-57167561802A',$),)\n",
      "#32411=IfcMaterialLayerSetUsage(#21971,.AXIS2.,.NEGATIVE.,0.,$)\n",
      "(#32407=IfcWallStandardCase('1bzfVsJqn8De5PukCrqylz',#12,'Wand-Ext-ERDG-2',$,$,#32360,#32402,'74EAE11D-EA09-459E-92-62-5370AED48E8E',$),)\n",
      "#34530=IfcMaterialLayerSetUsage(#34527,.AXIS3.,.NEGATIVE.,0.2,$)\n",
      "(#34509=IfcSlab('1pPHnf7cXCpPsNEnQf8_6B',#12,'Bodenplatte',$,$,#34464,#34505,'E4D9CD4B-CA43-4735-94-BD-1FD4376BD455',.BASESLAB.),)\n",
      "#35176=IfcMaterial('Solid',$,$)\n",
      "(#35169=IfcMember('0oTQ6V1VbChulreA_hfmUa',#12,'Sparren-1',$,$,#35085,#35165,'4E567244-877A-453F-BD-15-E8D98D599364',$), #35304=IfcMember('1tpUOcVEPCGgFqSz0VbniQ',#12,'Sparren-2',$,$,#35287,#35300,'C5F380CE-4BE5-466B-BC-4B-3A944CEE034E',$), #35427=IfcMember('1ulHlNTuj798Os3k9phhVC',#12,'Sparren-3',$,$,#35410,#35423,'6900A38D-6218-470C-AC-22-9AFA78DAFBA8',$), #35550=IfcMember('1OckORehXEoB_KILQGJao5',#12,'Sparren-4',$,$,#35533,#35546,'4C100AD3-729F-46E0-BD-62-DE5D7DA40117',$), #35673=IfcMember('0nsN_jkIrBQBuGFMg_zMEg',#12,'Sparren-5',$,$,#35656,#35669,'3C8A05AD-ECBB-4E09-B7-46-95B6A3DF895C',$), #35796=IfcMember('31Quw2HAvFqv$9_JgCuemp',#12,'Sparren-6',$,$,#35779,#35792,'860FAA0C-B6F9-41C9-B0-FC-435F2488ECA6',$), #35919=IfcMember('35W3cFc4L7MhJR0gIk9uis',#12,'Sparren-7',$,$,#35902,#35915,'3482C9DC-403F-437C-94-B9-0E7ACBDA5DBF',$), #36042=IfcMember('3F58AqxJfF$QkuoceQhWg3',#12,'Sparren-8',$,$,#36025,#36038,'05E9C0F2-246F-4C01-A3-3C-ABB1F44064B4',$), #36165=IfcMember('1nGDFBBHvBJ9NmlweQO0fX',#12,'Sparren-9',$,$,#36148,#36161,'2968F842-8ADC-4770-91-67-18314645959B',$), #36288=IfcMember('3qFc3Wrr9BBPJyb2wB$4Ra',#12,'Sparren-10',$,$,#36271,#36284,'639CABF2-BEEF-41F8-9F-C4-7379CD6756B8',$), #36411=IfcMember('37ab3q_iz8XRterfnMKTQX',#12,'Sparren-11',$,$,#36394,#36407,'1AB90595-0D25-474F-96-60-565DF04537D3',$), #36534=IfcMember('3xdLwxTMD7bw4hWoOQL41M',#12,'Sparren-12',$,$,#36517,#36530,'38A8137C-9D72-40E7-98-54-BAA748BE06F0',$), #36657=IfcMember('2OHMT7B69F5PRG_f3rMcjF',#12,'Sparren-13',$,$,#36640,#36653,'72ECFA45-517E-45A7-A9-F0-58BB40719283',$), #36780=IfcMember('34zPS2PUTBDOe7g7RIRXK0',#12,'Sparren-14',$,$,#36763,#36776,'00000000-0000-0000-00-00-000000000000',$), #36903=IfcMember('0VzptM87L6uOjQj08tTXIQ',#12,'Sparren-15',$,$,#36886,#36899,'BE5019AF-A097-455A-8D-66-DE59506D51CF',$), #37026=IfcMember('2CxE0$jXr8iOH1VC2gLCXX',#12,'Sparren-16',$,$,#37009,#37022,'0EAB97A9-E52A-4D7B-84-E2-0AFFA517A7C3',$), #37149=IfcMember('3sG$iUZAX499eUK87UfZk_',#12,'Sparren-17',$,$,#37132,#37145,'30C22D1D-028D-4B38-BE-CD-BF763016FE7B',$), #37272=IfcMember('0q1clcN4jF4gdikC9OySy7',#12,'Sparren-18',$,$,#37255,#37268,'78E8AC76-2667-4770-91-D7-813BE341C319',$), #37395=IfcMember('36KGWr2Rv8QuUhNnocm2nH',#12,'Sparren-19',$,$,#37378,#37391,'264D278D-153D-4271-87-B7-5ACB8AB7C031',$), #37582=IfcBeam('0eaC0nL3XAOfFxRXK_2iAr',#12,'Pfette-2-1',$,'',#37501,#37578,'542BAFA7-D3B2-4074-B0-AF-859DB4CE679A',$), #37710=IfcMember('0OKCG9uG53i9K16_x3YNfz',#12,'Sparren-20',$,$,#37693,#37706,'ABC5FCBF-447C-455B-8A-94-54C01FF84C7D',$), #37833=IfcMember('3ePWkSzvLApwXTt3b0I2nV',#12,'Sparren-21',$,$,#37816,#37829,'7D626D3E-AA80-4308-86-DA-76F09E2350F5',$), #37956=IfcMember('09OmJpUcj4WvNp2dXHFMWj',#12,'Sparren-22',$,$,#37939,#37952,'478277F6-2A8B-4D9B-A7-C6-59173581CD24',$), #38079=IfcMember('3iSL8frGLDweFar9j4zgJ_',#12,'Sparren-23',$,$,#38062,#38075,'3DB3AE4B-A425-47F3-BB-76-E3009AE09ABB',$), #38202=IfcMember('23pmL_2aH88OVqWp_5Lfkf',#12,'Sparren-24',$,$,#38185,#38198,'1FD04C72-582E-4AB8-B8-09-181F7DD7D62F',$), #38325=IfcMember('06JZMOVBX8VucSQwQ3o$8d',#12,'Sparren-25',$,$,#38308,#38321,'DDE46763-BE57-4EF4-A5-94-B80ED2242C61',$), #38448=IfcMember('31ry3UPYD7weLluBlhQxXZ',#12,'Sparren-26',$,$,#38431,#38444,'CAE5E5C0-4299-44F4-A2-1A-688219A1DA30',$), #38571=IfcMember('20AsUDMgH0JwAitydKgsOm',#12,'Sparren-27',$,$,#38554,#38567,'08446AD9-0161-4E13-8B-5D-20F9D44DB92A',$), #38694=IfcMember('2SfSpj_pX9nvTeCOxeKqTd',#12,'Sparren-28',$,$,#38677,#38690,'29979C4B-420D-4ED2-B5-48-6AE887E69AD4',$), #38817=IfcMember('17MHCgVYn2YPLX56yXUJbL',#12,'Sparren-29',$,$,#38800,#38813,'8B9D9C34-42AA-4C87-A3-E8-C117928F7CD6',$), #38940=IfcMember('2XyYurmzzDOAIoZ52R97Jm',#12,'Sparren-30',$,$,#38923,#38936,'56BAD4E8-0059-4C72-85-8A-9B23D2E15426',$), #39063=IfcMember('0hRh9WB$jCLwlAiq3vfmg9',#12,'Sparren-31',$,$,#39046,#39059,'C9E34584-2109-4676-8F-0C-A5C9428DA4B4',$), #39186=IfcMember('1NBDw_i_jD$u7IjvwmbPmx',#12,'Sparren-32',$,$,#39169,#39182,'62D6313A-B4FB-45BF-B3-97-10D01124A4F9',$), #39309=IfcMember('2DH$OLoObDkAtwqVzNdUnS',#12,'Sparren-33',$,$,#39292,#39305,'E4FF91FA-3AE7-4591-8D-5F-61E57F7BA5DE',$), #39432=IfcMember('1qMEiq1Qz6guq8g1GCODiJ',#12,'Sparren-34',$,$,#39415,#39428,'3A999AF6-1C12-413A-89-B2-BF4A3CAEAD63',$), #39555=IfcMember('2AxITdtlD1h9Y3ye8U93bV',#12,'Sparren-35',$,$,#39538,#39551,'2B89760B-0C8D-4559-A3-B2-5B1635543320',$), #39678=IfcMember('0DTRkEz0r6gvzG6VdDr24n',#12,'Sparren-36',$,$,#39661,#39674,'A4621E86-FF56-40DC-B3-C2-2633C779B3A5',$), #39801=IfcMember('3UTqpydzf7i8J6iMY2tHil',#12,'Sparren-37',$,$,#39784,#39797,'A64DDEB8-B180-474D-B9-AA-2A96A26C443D',$), #39924=IfcMember('3CS1rsE3bB7vMHAdjyaamh',#12,'Sparren-38',$,$,#39907,#39920,'46488648-16DC-44A4-91-12-698B815D6192',$), #40047=IfcMember('2jBFZiQw110vV7XY77KKfx',#12,'Sparren-39',$,$,#40030,#40043,'EC41283A-3BA0-4DB3-BD-68-564054F72630',$), #40170=IfcMember('22oN_bO9T4jO5eG4GKW7be',#12,'Sparren-40',$,$,#40153,#40166,'BC192F3D-2C51-4B28-92-78-5806097A3CB1',$), #40293=IfcMember('2in0QvfYXEawl1f3MP1bq2',#12,'Sparren-41',$,$,#40276,#40289,'6A479A30-3EE6-49CF-80-83-949E8139A87B',$), #40416=IfcBeam('3jZHeNcfvDMf9wG$wx9XqG',#12,'Pfette-1-1',$,'',#40399,#40412,'C8707AC7-4260-4F76-A6-95-7665806B676D',$), #40539=IfcBeam('20bTaetQDApP5w8egFxj13',#12,'First',$,'',#40522,#40535,'C2B602D2-A015-453B-9E-EF-BB998BB27F3B',$), #40662=IfcMember('3EgsECVVb6zQXnK3YFcWAu',#12,'Sparren-42',$,$,#40645,#40658,'21F55D0B-AD74-40D8-A5-20-4365CC35D364',$), #49831=IfcRailing('0o5vgCKyTBzO5$QJcI2YDP',#12,'',$,$,#40768,#49827,'00000000-0000-0000-00-00-000000000000',.HANDRAIL.), #59075=IfcRailing('09axaKU7X1_O8n6dmmiZ1E',#12,'',$,$,#50014,#59071,'00000000-0000-0000-00-00-000000000000',.HANDRAIL.))\n",
      "#59319=IfcMaterialLayerSetUsage(#59316,.AXIS3.,.NEGATIVE.,0.2,$)\n",
      "(#59290=IfcSlab('2RGlQk4xH47RHK93zcTzUL',#12,'Slab-033',$,$,#59253,#59286,'DA0A17AC-B773-47AC-99-C5-D390C73AD5CC',.FLOOR.),)\n",
      "#59557=IfcMaterialLayerSetUsage(#59316,.AXIS3.,.NEGATIVE.,0.2,$)\n",
      "(#59553=IfcSlab('07Enbsqm9C7AQC9iyBwfSD',#12,'Dach-1',$,$,#59508,#59549,'E142B455-80E4-4B96-83-EC-E1589CA998DB',.ROOF.),)\n",
      "#59757=IfcMaterialLayerSetUsage(#59316,.AXIS3.,.NEGATIVE.,0.2,$)\n",
      "(#59753=IfcSlab('2IxUUNUVPB6Ob$eicCfP2N',#12,'Dach-2',$,$,#59716,#59749,'BD6D9414-37DF-40A8-88-40-301A32A9A5B5',.ROOF.),)\n",
      "#60016=IfcMaterialLayerSetUsage(#21971,.AXIS2.,.NEGATIVE.,0.,$)\n",
      "(#60012=IfcWallStandardCase('0knNIAVBPBFvBy_m5QVHsU',#12,'Wand-Ext-OG-1',$,$,#59911,#60007,'7B65A2FF-2B2E-4F49-B4-A1-7B41CF4110EE',$),)\n",
      "#67540=IfcMaterialLayerSetUsage(#21971,.AXIS2.,.NEGATIVE.,0.,$)\n",
      "(#67536=IfcWallStandardCase('25OWQvmXj5BPgyergP43tY',#12,'Wand-Ext-OG-2',$,$,#67479,#67531,'79A3F0D1-59C9-4AE1-9D-6D-772238A0ECC7',$),)\n",
      "#67832=IfcMaterialLayerSetUsage(#21971,.AXIS2.,.NEGATIVE.,0.,$)\n",
      "(#67828=IfcWallStandardCase('3VCarUKgH1buLo22Ozxe6J',#12,'Wand-Ext-OG-3',$,$,#67727,#67823,'5D0903EC-02FE-4DE0-98-05-1D4D15974A41',$),)\n",
      "#75351=IfcMaterialLayerSetUsage(#21971,.AXIS2.,.NEGATIVE.,0.,$)\n",
      "(#75347=IfcWallStandardCase('3Ttjr$59XEWfWN1WUHjelZ',#12,'Wand-Ext-OG-4',$,$,#75290,#75342,'C0070317-136B-4A93-BD-CC-3B8478F23A5C',$),)\n"
     ]
    }
   ],
   "source": [
    "associations = model.by_type('IfcRelAssociatesMaterial')\n",
    "for association in associations:\n",
    "    related_materials = association.RelatingMaterial\n",
    "    related_objects = association.RelatedObjects\n",
    "    print(related_materials)\n",
    "    print(related_objects)"
   ]
  },
  {
   "cell_type": "code",
   "execution_count": 8,
   "metadata": {},
   "outputs": [
    {
     "name": "stdout",
     "output_type": "stream",
     "text": [
      "{'Holz': {('IfcStair', '38a9vdh9bF5Qg28GWyHhlr', 'ACID00000001-0000-0000-0000-000000000000')}, 'Leichtbeton 102890359': set(), 'Radial Gradient Fill 1515460218': {('IfcBeam', '3tCgZT92j6fw8fXgwCL3Jm', 'ACID00000001-0000-0000-0000-000000000000')}, 'Stahlbeton 65690': set(), 'Solid': {('IfcMember', '3qFc3Wrr9BBPJyb2wB$4Ra', 'ACID00000002-0000-0000-0000-000000000000'), ('IfcRailing', '0o5vgCKyTBzO5$QJcI2YDP', 'ACID00000002-0000-0000-0000-000000000000'), ('IfcMember', '09OmJpUcj4WvNp2dXHFMWj', 'ACID00000002-0000-0000-0000-000000000000'), ('IfcMember', '1ulHlNTuj798Os3k9phhVC', 'ACID00000002-0000-0000-0000-000000000000'), ('IfcMember', '1NBDw_i_jD$u7IjvwmbPmx', 'ACID00000002-0000-0000-0000-000000000000'), ('IfcMember', '2in0QvfYXEawl1f3MP1bq2', 'ACID00000002-0000-0000-0000-000000000000'), ('IfcBeam', '20bTaetQDApP5w8egFxj13', 'ACID00000002-0000-0000-0000-000000000000'), ('IfcMember', '0nsN_jkIrBQBuGFMg_zMEg', 'ACID00000002-0000-0000-0000-000000000000'), ('IfcMember', '23pmL_2aH88OVqWp_5Lfkf', 'ACID00000002-0000-0000-0000-000000000000'), ('IfcMember', '37ab3q_iz8XRterfnMKTQX', 'ACID00000002-0000-0000-0000-000000000000'), ('IfcMember', '1OckORehXEoB_KILQGJao5', 'ACID00000002-0000-0000-0000-000000000000'), ('IfcMember', '0DTRkEz0r6gvzG6VdDr24n', 'ACID00000002-0000-0000-0000-000000000000'), ('IfcMember', '2SfSpj_pX9nvTeCOxeKqTd', 'ACID00000002-0000-0000-0000-000000000000'), ('IfcMember', '0OKCG9uG53i9K16_x3YNfz', 'ACID00000002-0000-0000-0000-000000000000'), ('IfcMember', '2XyYurmzzDOAIoZ52R97Jm', 'ACID00000002-0000-0000-0000-000000000000'), ('IfcMember', '3ePWkSzvLApwXTt3b0I2nV', 'ACID00000002-0000-0000-0000-000000000000'), ('IfcMember', '2jBFZiQw110vV7XY77KKfx', 'ACID00000002-0000-0000-0000-000000000000'), ('IfcMember', '2CxE0$jXr8iOH1VC2gLCXX', 'ACID00000002-0000-0000-0000-000000000000'), ('IfcMember', '3EgsECVVb6zQXnK3YFcWAu', 'ACID00000002-0000-0000-0000-000000000000'), ('IfcMember', '3xdLwxTMD7bw4hWoOQL41M', 'ACID00000002-0000-0000-0000-000000000000'), ('IfcMember', '31ry3UPYD7weLluBlhQxXZ', 'ACID00000002-0000-0000-0000-000000000000'), ('IfcMember', '3F58AqxJfF$QkuoceQhWg3', 'ACID00000002-0000-0000-0000-000000000000'), ('IfcRailing', '09axaKU7X1_O8n6dmmiZ1E', 'ACID00000002-0000-0000-0000-000000000000'), ('IfcMember', '34zPS2PUTBDOe7g7RIRXK0', 'ACID00000002-0000-0000-0000-000000000000'), ('IfcMember', '0VzptM87L6uOjQj08tTXIQ', 'ACID00000002-0000-0000-0000-000000000000'), ('IfcMember', '36KGWr2Rv8QuUhNnocm2nH', 'ACID00000002-0000-0000-0000-000000000000'), ('IfcBeam', '3jZHeNcfvDMf9wG$wx9XqG', 'ACID00000002-0000-0000-0000-000000000000'), ('IfcMember', '0hRh9WB$jCLwlAiq3vfmg9', 'ACID00000002-0000-0000-0000-000000000000'), ('IfcMember', '2AxITdtlD1h9Y3ye8U93bV', 'ACID00000002-0000-0000-0000-000000000000'), ('IfcMember', '22oN_bO9T4jO5eG4GKW7be', 'ACID00000002-0000-0000-0000-000000000000'), ('IfcMember', '2DH$OLoObDkAtwqVzNdUnS', 'ACID00000002-0000-0000-0000-000000000000'), ('IfcMember', '2OHMT7B69F5PRG_f3rMcjF', 'ACID00000002-0000-0000-0000-000000000000'), ('IfcMember', '3UTqpydzf7i8J6iMY2tHil', 'ACID00000002-0000-0000-0000-000000000000'), ('IfcMember', '3CS1rsE3bB7vMHAdjyaamh', 'ACID00000002-0000-0000-0000-000000000000'), ('IfcMember', '3sG$iUZAX499eUK87UfZk_', 'ACID00000002-0000-0000-0000-000000000000'), ('IfcMember', '17MHCgVYn2YPLX56yXUJbL', 'ACID00000002-0000-0000-0000-000000000000'), ('IfcMember', '35W3cFc4L7MhJR0gIk9uis', 'ACID00000002-0000-0000-0000-000000000000'), ('IfcBeam', '0eaC0nL3XAOfFxRXK_2iAr', 'ACID00000002-0000-0000-0000-000000000000'), ('IfcMember', '1tpUOcVEPCGgFqSz0VbniQ', 'ACID00000002-0000-0000-0000-000000000000'), ('IfcMember', '1nGDFBBHvBJ9NmlweQO0fX', 'ACID00000002-0000-0000-0000-000000000000'), ('IfcMember', '31Quw2HAvFqv$9_JgCuemp', 'ACID00000002-0000-0000-0000-000000000000'), ('IfcMember', '3iSL8frGLDweFar9j4zgJ_', 'ACID00000002-0000-0000-0000-000000000000'), ('IfcMember', '0q1clcN4jF4gdikC9OySy7', 'ACID00000002-0000-0000-0000-000000000000'), ('IfcMember', '0oTQ6V1VbChulreA_hfmUa', 'ACID00000002-0000-0000-0000-000000000000'), ('IfcMember', '1qMEiq1Qz6guq8g1GCODiJ', 'ACID00000002-0000-0000-0000-000000000000'), ('IfcMember', '06JZMOVBX8VucSQwQ3o$8d', 'ACID00000002-0000-0000-0000-000000000000'), ('IfcMember', '20AsUDMgH0JwAitydKgsOm', 'ACID00000002-0000-0000-0000-000000000000')}, 'Solid 397409098': set()}\n"
     ]
    }
   ],
   "source": [
    "## TODO: move to utils\n",
    "def extract_material_usage(model):\n",
    "    ifc_file = model\n",
    "    material_usage_info = {}\n",
    "\n",
    "    # Iterate over all materials\n",
    "    for material in ifc_file.by_type(\"IfcMaterial\"):\n",
    "        used_in_elements = set()\n",
    "        # Find associations to elements\n",
    "        for association in ifc_file.by_type(\"IfcRelAssociatesMaterial\"):\n",
    "            if association.RelatingMaterial == material or \\\n",
    "               (association.RelatingMaterial.is_a(\"IfcMaterialLayerSetUsage\") and association.RelatingMaterial.ForLayerSet == material):\n",
    "                for relatedObject in association.RelatedObjects:\n",
    "                    element_type = relatedObject.is_a()\n",
    "                    element_id = relatedObject.GlobalId\n",
    "                    # Determine the spatial structure (location)\n",
    "                    if relatedObject.ContainedInStructure:\n",
    "                        for rel_contained in relatedObject.ContainedInStructure:\n",
    "                            structure = rel_contained.RelatingStructure\n",
    "                            location = structure.LongName or structure.Name\n",
    "                            if structure.is_a(\"IfcSpace\"):  # If you want more specific space info\n",
    "                                location += f\" in {structure.LongName or structure.Name}\"\n",
    "                            used_in_elements.add((element_type, element_id, location))\n",
    "        \n",
    "        material_usage_info[material.Name] = used_in_elements\n",
    "\n",
    "    return material_usage_info\n",
    "\n",
    "material_usage_info = extract_material_usage_with_location(model)\n",
    "print(material_usage_info)"
   ]
  },
  {
   "cell_type": "code",
   "execution_count": null,
   "metadata": {},
   "outputs": [],
   "source": []
  }
 ],
 "metadata": {
  "kernelspec": {
   "display_name": ".venv",
   "language": "python",
   "name": "python3"
  },
  "language_info": {
   "codemirror_mode": {
    "name": "ipython",
    "version": 3
   },
   "file_extension": ".py",
   "mimetype": "text/x-python",
   "name": "python",
   "nbconvert_exporter": "python",
   "pygments_lexer": "ipython3",
   "version": "3.9.6"
  }
 },
 "nbformat": 4,
 "nbformat_minor": 2
}
