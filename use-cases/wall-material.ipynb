{
 "cells": [
  {
   "cell_type": "markdown",
   "metadata": {},
   "source": [
    "This notebook demonstrate how to use ifcopenshell to extract materials used in walls of a building model."
   ]
  },
  {
   "cell_type": "markdown",
   "metadata": {
    "vscode": {
     "languageId": "plaintext"
    }
   },
   "source": [
    "First we need to install required packages."
   ]
  },
  {
   "cell_type": "code",
   "execution_count": 1,
   "metadata": {},
   "outputs": [
    {
     "name": "stdout",
     "output_type": "stream",
     "text": [
      "Requirement already satisfied: ifcopenshell in /Users/yunchengyang/Projects/ifcOpenShell-playground/.venv/lib/python3.9/site-packages (0.7.0.231218)\n",
      "Note: you may need to restart the kernel to use updated packages.\n",
      "Requirement already satisfied: lark in /Users/yunchengyang/Projects/ifcOpenShell-playground/.venv/lib/python3.9/site-packages (1.1.9)\n",
      "Requirement already satisfied: numpy in /Users/yunchengyang/Projects/ifcOpenShell-playground/.venv/lib/python3.9/site-packages (1.26.4)\n",
      "Note: you may need to restart the kernel to use updated packages.\n",
      "Requirement already satisfied: pandas in /Users/yunchengyang/Projects/ifcOpenShell-playground/.venv/lib/python3.9/site-packages (2.2.2)\n",
      "Requirement already satisfied: numpy>=1.22.4 in /Users/yunchengyang/Projects/ifcOpenShell-playground/.venv/lib/python3.9/site-packages (from pandas) (1.26.4)\n",
      "Requirement already satisfied: python-dateutil>=2.8.2 in /Users/yunchengyang/Projects/ifcOpenShell-playground/.venv/lib/python3.9/site-packages (from pandas) (2.9.0.post0)\n",
      "Requirement already satisfied: pytz>=2020.1 in /Users/yunchengyang/Projects/ifcOpenShell-playground/.venv/lib/python3.9/site-packages (from pandas) (2024.1)\n",
      "Requirement already satisfied: tzdata>=2022.7 in /Users/yunchengyang/Projects/ifcOpenShell-playground/.venv/lib/python3.9/site-packages (from pandas) (2024.1)\n",
      "Requirement already satisfied: six>=1.5 in /Users/yunchengyang/Projects/ifcOpenShell-playground/.venv/lib/python3.9/site-packages (from python-dateutil>=2.8.2->pandas) (1.16.0)\n",
      "Note: you may need to restart the kernel to use updated packages.\n"
     ]
    }
   ],
   "source": [
    "%pip install ifcopenshell\n",
    "%pip install lark numpy ## some package missing in the ifcopenshell\n",
    "%pip install"
   ]
  },
  {
   "cell_type": "markdown",
   "metadata": {},
   "source": [
    "Import ifcopenshell and open the IFC file."
   ]
  },
  {
   "cell_type": "code",
   "execution_count": 3,
   "metadata": {},
   "outputs": [],
   "source": [
    "import os\n",
    "import ifcopenshell\n",
    "import pandas as pd"
   ]
  },
  {
   "cell_type": "code",
   "execution_count": 4,
   "metadata": {},
   "outputs": [],
   "source": [
    "file_path = os.path.join(os.getcwd(), '..', 'examples', 'basic-house.ifc')\n",
    "model = ifcopenshell.open(file_path)"
   ]
  },
  {
   "cell_type": "markdown",
   "metadata": {},
   "source": [
    "Now we have the IFC model loaded. We are going to extract the materials used in the walls of the building. Including the common wall properties such as is external, is load bearing. We will also extract the quantity and dimensions of the wall materials."
   ]
  },
  {
   "cell_type": "code",
   "execution_count": 10,
   "metadata": {},
   "outputs": [
    {
     "name": "stdout",
     "output_type": "stream",
     "text": [
      "Number of walls: 13\n"
     ]
    },
    {
     "data": {
      "text/plain": [
       "#361=IfcWallStandardCase('2DedXznHnDaeAWsrTB_qBp',#41,'Basic Wall:Yttervägg Paroc:1298028',$,'Basic Wall:Yttervägg Paroc',#311,#359,'1298028')"
      ]
     },
     "execution_count": 10,
     "metadata": {},
     "output_type": "execute_result"
    }
   ],
   "source": [
    "# Extract walls\n",
    "def extract_walls(ifc_file):\n",
    "    \"\"\"Extract wall elements from the IFC file.\"\"\"\n",
    "    return ifc_file.by_type('IfcWall')\n",
    "\n",
    "extracted_walls = extract_walls(model)\n",
    "print(f'Number of walls: {len(extracted_walls)}')\n"
   ]
  },
  {
   "cell_type": "code",
   "execution_count": 73,
   "metadata": {},
   "outputs": [
    {
     "name": "stdout",
     "output_type": "stream",
     "text": [
      "Number of walls: 13\n"
     ]
    },
    {
     "data": {
      "text/plain": [
       "#361=IfcWallStandardCase('2DedXznHnDaeAWsrTB_qBp',#41,'Basic Wall:Yttervägg Paroc:1298028',$,'Basic Wall:Yttervägg Paroc',#311,#359,'1298028')"
      ]
     },
     "execution_count": 73,
     "metadata": {},
     "output_type": "execute_result"
    }
   ],
   "source": [
    "extracted_walls = extract_walls(model)\n",
    "print(f'Number of walls: {len(extracted_walls)}')\n",
    "extracted_walls[0]"
   ]
  },
  {
   "cell_type": "code",
   "execution_count": 79,
   "metadata": {},
   "outputs": [],
   "source": [
    "def format_material_name(material):\n",
    "    \"\"\"Format the material name to a readable format.\"\"\"\n",
    "    if material and material.is_a('IfcMaterial'):\n",
    "        return material.Name\n",
    "    return str(material)\n",
    "\n",
    "def extract_material(wall):\n",
    "    \"\"\"Extract material information for a given wall, considering material layers if present.\"\"\"\n",
    "    material_info = []\n",
    "    material_association = wall.HasAssociations\n",
    "    if material_association:\n",
    "        for assoc in material_association:\n",
    "            if assoc.is_a('IfcRelAssociatesMaterial'):\n",
    "                material = assoc.RelatingMaterial\n",
    "                if material.is_a('IfcMaterialLayerSetUsage'):\n",
    "                    for layer in material.ForLayerSet.MaterialLayers:\n",
    "                        material_info.append({\n",
    "                            'Material': format_material_name(layer.Material),\n",
    "                            'LayerThickness': layer.LayerThickness\n",
    "                        })\n",
    "                elif material.is_a('IfcMaterialLayerSet'):\n",
    "                    for layer in material.MaterialLayers:\n",
    "                        material_info.append({\n",
    "                            'Material': format_material_name(layer.Material),\n",
    "                            'LayerThickness': layer.LayerThickness\n",
    "                        })\n",
    "                else:\n",
    "                    material_info.append({\n",
    "                        'Material': format_material_name(material),\n",
    "                        'LayerThickness': None\n",
    "                    })\n",
    "                break\n",
    "    return material_info"
   ]
  },
  {
   "cell_type": "code",
   "execution_count": 80,
   "metadata": {},
   "outputs": [
    {
     "name": "stdout",
     "output_type": "stream",
     "text": [
      "[{'Material': 'Betong', 'LayerThickness': 540.0}]\n"
     ]
    }
   ],
   "source": [
    "wall = extracted_walls[0]\n",
    "material_info = extract_material(wall)\n",
    "print(material_info)"
   ]
  },
  {
   "cell_type": "code",
   "execution_count": 75,
   "metadata": {},
   "outputs": [],
   "source": [
    "def extract_pset_wall_common(wall):\n",
    "    \"\"\"Extract PsetWallCommon properties for a given wall.\"\"\"\n",
    "    psets = ifcopenshell.util.element.get_psets(wall)\n",
    "    pset_wall_common = psets.get('Pset_WallCommon', {})\n",
    "    return pset_wall_common\n"
   ]
  },
  {
   "cell_type": "code",
   "execution_count": 76,
   "metadata": {},
   "outputs": [
    {
     "name": "stdout",
     "output_type": "stream",
     "text": [
      "{'Reference': 'Yttervägg Paroc', 'IsExternal': True, 'id': 530, 'ExtendToStructure': True, 'LoadBearing': False}\n"
     ]
    }
   ],
   "source": [
    "wall_common_properties = extract_pset_wall_common(wall)\n",
    "print(wall_common_properties)"
   ]
  },
  {
   "cell_type": "code",
   "execution_count": 77,
   "metadata": {},
   "outputs": [],
   "source": [
    "def extract_base_quantities(wall):\n",
    "    \"\"\"Extract base quantities for a given wall.\"\"\"\n",
    "    psets = ifcopenshell.util.element.get_psets(wall)\n",
    "    pset_base_quantities = psets.get('BaseQuantities', {})\n",
    "    return pset_base_quantities"
   ]
  },
  {
   "cell_type": "code",
   "execution_count": 78,
   "metadata": {},
   "outputs": [
    {
     "name": "stdout",
     "output_type": "stream",
     "text": [
      "{'Height': 2534.63712153532, 'Length': 22600.0, 'Width': 540.0, 'GrossFootprintArea': 12.204, 'NetVolume': 25.1098377156085, 'NetSideArea': 48.0210989466982, 'id': 378}\n"
     ]
    }
   ],
   "source": [
    "wall_base_quantities = extract_base_quantities(wall)\n",
    "print(wall_base_quantities)"
   ]
  },
  {
   "cell_type": "markdown",
   "metadata": {},
   "source": []
  },
  {
   "cell_type": "code",
   "execution_count": 81,
   "metadata": {},
   "outputs": [],
   "source": [
    "def create_material_passport(model):\n",
    "    \"\"\"Create a material passport for all wall elements in the IFC file.\"\"\"\n",
    "    walls = extract_walls(model)\n",
    "    material_passport = []\n",
    "\n",
    "    for wall in walls:\n",
    "        wall_data = {'WallID': wall.GlobalId}\n",
    "\n",
    "        # Extract PsetWallCommon properties and add to wall_data\n",
    "        pset_wall_common = extract_pset_wall_common(wall)\n",
    "        wall_data.update(pset_wall_common)\n",
    "\n",
    "        # Extract base quantities (assuming part of Pset_PackingInstructions) and add to wall_data\n",
    "        base_quantities = extract_base_quantities(wall,)\n",
    "        wall_data['BaseQuantities'] = base_quantities\n",
    "\n",
    "        # Extract material and add to wall_data\n",
    "        materials_info = extract_material(wall)\n",
    "        for material_info in materials_info:\n",
    "            material_passport.append({\n",
    "                'WallID': wall.GlobalId,\n",
    "                'Material': material_info['Material'],\n",
    "                'LayerThickness': material_info['LayerThickness'],\n",
    "                **pset_wall_common,\n",
    "                **base_quantities\n",
    "            })\n",
    "\n",
    "    return pd.DataFrame(material_passport)"
   ]
  },
  {
   "cell_type": "code",
   "execution_count": 83,
   "metadata": {},
   "outputs": [
    {
     "data": {
      "text/html": [
       "<div>\n",
       "<style scoped>\n",
       "    .dataframe tbody tr th:only-of-type {\n",
       "        vertical-align: middle;\n",
       "    }\n",
       "\n",
       "    .dataframe tbody tr th {\n",
       "        vertical-align: top;\n",
       "    }\n",
       "\n",
       "    .dataframe thead th {\n",
       "        text-align: right;\n",
       "    }\n",
       "</style>\n",
       "<table border=\"1\" class=\"dataframe\">\n",
       "  <thead>\n",
       "    <tr style=\"text-align: right;\">\n",
       "      <th></th>\n",
       "      <th>WallID</th>\n",
       "      <th>Material</th>\n",
       "      <th>LayerThickness</th>\n",
       "      <th>Reference</th>\n",
       "      <th>IsExternal</th>\n",
       "      <th>id</th>\n",
       "      <th>ExtendToStructure</th>\n",
       "      <th>LoadBearing</th>\n",
       "      <th>Height</th>\n",
       "      <th>Length</th>\n",
       "      <th>Width</th>\n",
       "      <th>GrossFootprintArea</th>\n",
       "      <th>NetVolume</th>\n",
       "      <th>NetSideArea</th>\n",
       "    </tr>\n",
       "  </thead>\n",
       "  <tbody>\n",
       "    <tr>\n",
       "      <th>0</th>\n",
       "      <td>2DedXznHnDaeAWsrTB_qBp</td>\n",
       "      <td>Betong</td>\n",
       "      <td>540.0</td>\n",
       "      <td>Yttervägg Paroc</td>\n",
       "      <td>True</td>\n",
       "      <td>378</td>\n",
       "      <td>True</td>\n",
       "      <td>False</td>\n",
       "      <td>2534.637122</td>\n",
       "      <td>22600.0</td>\n",
       "      <td>540.0</td>\n",
       "      <td>12.2040</td>\n",
       "      <td>25.109838</td>\n",
       "      <td>48.021099</td>\n",
       "    </tr>\n",
       "    <tr>\n",
       "      <th>1</th>\n",
       "      <td>2DedXznHnDaeAWsrTB_qBo</td>\n",
       "      <td>Betong</td>\n",
       "      <td>540.0</td>\n",
       "      <td>Yttervägg Paroc</td>\n",
       "      <td>True</td>\n",
       "      <td>645</td>\n",
       "      <td>True</td>\n",
       "      <td>False</td>\n",
       "      <td>3584.308014</td>\n",
       "      <td>8960.0</td>\n",
       "      <td>540.0</td>\n",
       "      <td>4.8384</td>\n",
       "      <td>12.016680</td>\n",
       "      <td>22.253111</td>\n",
       "    </tr>\n",
       "    <tr>\n",
       "      <th>2</th>\n",
       "      <td>2DedXznHnDaeAWsrTB_qBn</td>\n",
       "      <td>Betong</td>\n",
       "      <td>540.0</td>\n",
       "      <td>Yttervägg Paroc</td>\n",
       "      <td>True</td>\n",
       "      <td>794</td>\n",
       "      <td>True</td>\n",
       "      <td>False</td>\n",
       "      <td>2534.637122</td>\n",
       "      <td>22060.0</td>\n",
       "      <td>540.0</td>\n",
       "      <td>11.9124</td>\n",
       "      <td>16.853897</td>\n",
       "      <td>32.682895</td>\n",
       "    </tr>\n",
       "    <tr>\n",
       "      <th>3</th>\n",
       "      <td>2DedXznHnDaeAWsrTB_qBm</td>\n",
       "      <td>Betong</td>\n",
       "      <td>540.0</td>\n",
       "      <td>Yttervägg Paroc</td>\n",
       "      <td>True</td>\n",
       "      <td>952</td>\n",
       "      <td>True</td>\n",
       "      <td>False</td>\n",
       "      <td>3584.308014</td>\n",
       "      <td>8420.0</td>\n",
       "      <td>540.0</td>\n",
       "      <td>4.5468</td>\n",
       "      <td>11.167448</td>\n",
       "      <td>20.680459</td>\n",
       "    </tr>\n",
       "    <tr>\n",
       "      <th>4</th>\n",
       "      <td>2DedXznHnDaeAWsrTB_qBj</td>\n",
       "      <td>Betong</td>\n",
       "      <td>170.0</td>\n",
       "      <td>Innervägg 170mm Paroc</td>\n",
       "      <td>False</td>\n",
       "      <td>1072</td>\n",
       "      <td>False</td>\n",
       "      <td>False</td>\n",
       "      <td>2400.000000</td>\n",
       "      <td>8420.0</td>\n",
       "      <td>170.0</td>\n",
       "      <td>1.4314</td>\n",
       "      <td>2.782526</td>\n",
       "      <td>16.367800</td>\n",
       "    </tr>\n",
       "  </tbody>\n",
       "</table>\n",
       "</div>"
      ],
      "text/plain": [
       "                   WallID Material  LayerThickness              Reference  \\\n",
       "0  2DedXznHnDaeAWsrTB_qBp   Betong           540.0        Yttervägg Paroc   \n",
       "1  2DedXznHnDaeAWsrTB_qBo   Betong           540.0        Yttervägg Paroc   \n",
       "2  2DedXznHnDaeAWsrTB_qBn   Betong           540.0        Yttervägg Paroc   \n",
       "3  2DedXznHnDaeAWsrTB_qBm   Betong           540.0        Yttervägg Paroc   \n",
       "4  2DedXznHnDaeAWsrTB_qBj   Betong           170.0  Innervägg 170mm Paroc   \n",
       "\n",
       "   IsExternal    id  ExtendToStructure  LoadBearing       Height   Length  \\\n",
       "0        True   378               True        False  2534.637122  22600.0   \n",
       "1        True   645               True        False  3584.308014   8960.0   \n",
       "2        True   794               True        False  2534.637122  22060.0   \n",
       "3        True   952               True        False  3584.308014   8420.0   \n",
       "4       False  1072              False        False  2400.000000   8420.0   \n",
       "\n",
       "   Width  GrossFootprintArea  NetVolume  NetSideArea  \n",
       "0  540.0             12.2040  25.109838    48.021099  \n",
       "1  540.0              4.8384  12.016680    22.253111  \n",
       "2  540.0             11.9124  16.853897    32.682895  \n",
       "3  540.0              4.5468  11.167448    20.680459  \n",
       "4  170.0              1.4314   2.782526    16.367800  "
      ]
     },
     "execution_count": 83,
     "metadata": {},
     "output_type": "execute_result"
    }
   ],
   "source": [
    "material_passport = create_material_passport(model)\n",
    "material_passport.head()"
   ]
  },
  {
   "cell_type": "code",
   "execution_count": 84,
   "metadata": {},
   "outputs": [],
   "source": [
    "## Save the material passport to a CSV file\n",
    "material_passport.to_csv('material_passport.csv', index=False)"
   ]
  }
 ],
 "metadata": {
  "kernelspec": {
   "display_name": ".venv",
   "language": "python",
   "name": "python3"
  },
  "language_info": {
   "codemirror_mode": {
    "name": "ipython",
    "version": 3
   },
   "file_extension": ".py",
   "mimetype": "text/x-python",
   "name": "python",
   "nbconvert_exporter": "python",
   "pygments_lexer": "ipython3",
   "version": "3.9.6"
  }
 },
 "nbformat": 4,
 "nbformat_minor": 2
}
