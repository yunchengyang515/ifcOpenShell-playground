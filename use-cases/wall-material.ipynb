{
 "cells": [
  {
   "cell_type": "markdown",
   "metadata": {},
   "source": [
    "This notebook demonstrate how to use ifcopenshell to extract materials used in walls of a building model."
   ]
  },
  {
   "cell_type": "markdown",
   "metadata": {
    "vscode": {
     "languageId": "plaintext"
    }
   },
   "source": [
    "First we need to install required packages."
   ]
  },
  {
   "cell_type": "code",
   "execution_count": null,
   "metadata": {},
   "outputs": [],
   "source": [
    "%pip install ifcopenshell\n",
    "%pip install lark numpy ## some package missing in the ifcopenshell\n",
    "## install visualization package\n",
    "%pip install matplotlib\n",
    "%pip install seaborn"
   ]
  },
  {
   "cell_type": "markdown",
   "metadata": {},
   "source": [
    "Import ifcopenshell and open the IFC file."
   ]
  },
  {
   "cell_type": "code",
   "execution_count": null,
   "metadata": {},
   "outputs": [],
   "source": [
    "import os\n",
    "import ifcopenshell\n",
    "import pandas as pd"
   ]
  },
  {
   "cell_type": "code",
   "execution_count": null,
   "metadata": {},
   "outputs": [],
   "source": [
    "file_path = os.path.join(os.getcwd(), '..', 'examples', 'basic-house.ifc')\n",
    "model = ifcopenshell.open(file_path)"
   ]
  },
  {
   "cell_type": "markdown",
   "metadata": {},
   "source": [
    "Now we have the IFC model loaded. We are going to extract the materials used in the walls of the building. Including the common wall properties such as is external, is load bearing. We will also extract the quantity and dimensions of the wall materials."
   ]
  },
  {
   "cell_type": "code",
   "execution_count": null,
   "metadata": {},
   "outputs": [],
   "source": [
    "# Extract walls\n",
    "def extract_walls(ifc_file):\n",
    "    \"\"\"Extract wall elements from the IFC file.\"\"\"\n",
    "    return ifc_file.by_type('IfcWall')\n",
    "\n",
    "extracted_walls = extract_walls(model)\n",
    "print(f'Number of walls: {len(extracted_walls)}')\n"
   ]
  },
  {
   "cell_type": "code",
   "execution_count": null,
   "metadata": {},
   "outputs": [],
   "source": [
    "extracted_walls = extract_walls(model)\n",
    "print(f'Number of walls: {len(extracted_walls)}')\n",
    "extracted_walls[0]"
   ]
  },
  {
   "cell_type": "markdown",
   "metadata": {},
   "source": [
    "### Extract Wall Materials"
   ]
  },
  {
   "cell_type": "code",
   "execution_count": null,
   "metadata": {},
   "outputs": [],
   "source": [
    "def format_material_name(material):\n",
    "    \"\"\"Format the material name to a readable format.\"\"\"\n",
    "    if material and material.is_a('IfcMaterial'):\n",
    "        return material.Name\n",
    "    return str(material)\n",
    "\n",
    "def extract_material(wall):\n",
    "    \"\"\"Extract material information for a given wall, considering material layers if present.\"\"\"\n",
    "    material_info = []\n",
    "    material_association = wall.HasAssociations\n",
    "    if material_association:\n",
    "        for assoc in material_association:\n",
    "            if assoc.is_a('IfcRelAssociatesMaterial'):\n",
    "                material = assoc.RelatingMaterial\n",
    "                if material.is_a('IfcMaterialLayerSetUsage'):\n",
    "                    for layer in material.ForLayerSet.MaterialLayers:\n",
    "                        material_info.append({\n",
    "                            'Material': format_material_name(layer.Material),\n",
    "                            'LayerThickness': layer.LayerThickness\n",
    "                        })\n",
    "                elif material.is_a('IfcMaterialLayerSet'):\n",
    "                    for layer in material.MaterialLayers:\n",
    "                        material_info.append({\n",
    "                            'Material': format_material_name(layer.Material),\n",
    "                            'LayerThickness': layer.LayerThickness\n",
    "                        })\n",
    "                else:\n",
    "                    material_info.append({\n",
    "                        'Material': format_material_name(material),\n",
    "                        'LayerThickness': None\n",
    "                    })\n",
    "                break\n",
    "    return material_info"
   ]
  },
  {
   "cell_type": "code",
   "execution_count": null,
   "metadata": {},
   "outputs": [],
   "source": [
    "wall = extracted_walls[0]\n",
    "material_info = extract_material(wall)\n",
    "print(material_info)"
   ]
  },
  {
   "cell_type": "markdown",
   "metadata": {},
   "source": [
    "### Extract Wall Properties"
   ]
  },
  {
   "cell_type": "code",
   "execution_count": null,
   "metadata": {},
   "outputs": [],
   "source": [
    "def extract_pset_wall_common(wall):\n",
    "    \"\"\"Extract PsetWallCommon properties for a given wall.\"\"\"\n",
    "    psets = ifcopenshell.util.element.get_psets(wall)\n",
    "    pset_wall_common = psets.get('Pset_WallCommon', {})\n",
    "    return pset_wall_common\n"
   ]
  },
  {
   "cell_type": "code",
   "execution_count": null,
   "metadata": {},
   "outputs": [],
   "source": [
    "wall_common_properties = extract_pset_wall_common(wall)\n",
    "print(wall_common_properties)"
   ]
  },
  {
   "cell_type": "markdown",
   "metadata": {},
   "source": [
    "#### Extract Wall Quantity and Dimensions\n",
    "We will use the BaseQuantities property set to extract the quantity and dimensions of the wall materials."
   ]
  },
  {
   "cell_type": "code",
   "execution_count": null,
   "metadata": {},
   "outputs": [],
   "source": [
    "def extract_base_quantities(wall):\n",
    "    \"\"\"Extract base quantities for a given wall.\"\"\"\n",
    "    psets = ifcopenshell.util.element.get_psets(wall)\n",
    "    pset_base_quantities = psets.get('BaseQuantities', {})\n",
    "    return pset_base_quantities"
   ]
  },
  {
   "cell_type": "code",
   "execution_count": null,
   "metadata": {},
   "outputs": [],
   "source": [
    "wall_base_quantities = extract_base_quantities(wall)\n",
    "print(wall_base_quantities)"
   ]
  },
  {
   "cell_type": "markdown",
   "metadata": {},
   "source": [
    "#### Find the units of the dimensions\n",
    "To help us understand the dimensions, we will find the units of the dimensions.\n",
    "We will need to find the assigned units in the IFC file."
   ]
  },
  {
   "cell_type": "code",
   "execution_count": null,
   "metadata": {},
   "outputs": [],
   "source": [
    "def get_unit_string(unit):\n",
    "    \"\"\"Helper function to extract unit details.\"\"\"\n",
    "    if unit.is_a('IfcSIUnit'):\n",
    "        return f\"{unit.Prefix if unit.Prefix else ''}{unit.Name}\"\n",
    "    elif unit.is_a('IfcConversionBasedUnit'):\n",
    "        primary_unit = unit.ConversionFactor.UnitComponent\n",
    "        conversion_factor = unit.ConversionFactor.ValueComponent.wrappedValue\n",
    "        return f\"{unit.UnitType} ({unit.Name if unit.Name else ''}) defined as {primary_unit.UnitType} ({primary_unit.Prefix if primary_unit.Prefix else ''}{primary_unit.Name}) * {conversion_factor}\"\n",
    "    return None\n",
    "\n",
    "def get_unit_of_project(model):\n",
    "    \"\"\"Get the units of the project, including length, area, and volume.\"\"\"\n",
    "    project = model.by_type('IfcProject')[0]\n",
    "    units = {}\n",
    "\n",
    "    # Extract units from project context\n",
    "    project_units = project.UnitsInContext.Units\n",
    "    length_units = [u for u in project_units if u.is_a() in ('IfcSIUnit', 'IfcConversionBasedUnit') and u.UnitType == 'LENGTHUNIT']\n",
    "    area_units = [u for u in project_units if u.is_a() in ('IfcSIUnit', 'IfcConversionBasedUnit') and u.UnitType == 'AREAUNIT']\n",
    "    volume_units = [u for u in project_units if u.is_a() in ('IfcSIUnit', 'IfcConversionBasedUnit') and u.UnitType == 'VOLUMEUNIT']\n",
    "\n",
    "    # Get the last defined unit (if multiple are defined)\n",
    "    if length_units:\n",
    "        units['LENGTHUNIT'] = get_unit_string(length_units[-1])\n",
    "    if area_units:\n",
    "        units['AREAUNIT'] = get_unit_string(area_units[-1])\n",
    "    if volume_units:\n",
    "        units['VOLUMEUNIT'] = get_unit_string(volume_units[-1])\n",
    "\n",
    "    # If no units are defined in project context, look at global context\n",
    "    if not length_units or not area_units or not volume_units:\n",
    "        global_unit_assignments = model.by_type('IfcUnitAssignment')\n",
    "        global_length_units = [u for ua in global_unit_assignments for u in ua.Units if u.is_a() in ('IfcSIUnit', 'IfcConversionBasedUnit') and u.UnitType == 'LENGTHUNIT']\n",
    "        global_area_units = [u for ua in global_unit_assignments for u in ua.Units if u.is_a() in ('IfcSIUnit', 'IfcConversionBasedUnit') and u.UnitType == 'AREAUNIT']\n",
    "        global_volume_units = [u for ua in global_unit_assignments for u in ua.Units if u.is_a() in ('IfcSIUnit', 'IfcConversionBasedUnit') and u.UnitType == 'VOLUMEUNIT']\n",
    "\n",
    "        if not length_units and global_length_units:\n",
    "            units['LENGTHUNIT'] = get_unit_string(global_length_units[-1])\n",
    "        if not area_units and global_area_units:\n",
    "            units['AREAUNIT'] = get_unit_string(global_area_units[-1])\n",
    "        if not volume_units and global_volume_units:\n",
    "            units['VOLUMEUNIT'] = get_unit_string(global_volume_units[-1])\n",
    "\n",
    "    return units"
   ]
  },
  {
   "cell_type": "code",
   "execution_count": null,
   "metadata": {},
   "outputs": [],
   "source": [
    "project_unit = get_unit_of_project(model)\n",
    "print(project_unit)"
   ]
  },
  {
   "cell_type": "code",
   "execution_count": null,
   "metadata": {},
   "outputs": [],
   "source": [
    "# Function to append units to quantities\n",
    "def append_units_to_quantities(base_quantities, units):\n",
    "    \"\"\"Append units to the base quantities.\"\"\"\n",
    "    length_unit = units.get('LENGTHUNIT', 'mm')\n",
    "    area_unit = units.get('AREAUNIT', 'm2')\n",
    "    volume_unit = units.get('VOLUMEUNIT', 'm3')\n",
    "\n",
    "    if 'Height' in base_quantities:\n",
    "        base_quantities['Height'] = f\"{base_quantities['Height']} {length_unit}\"\n",
    "    if 'Length' in base_quantities:\n",
    "        base_quantities['Length'] = f\"{base_quantities['Length']} {length_unit}\"\n",
    "    if 'Width' in base_quantities:\n",
    "        base_quantities['Width'] = f\"{base_quantities['Width']} {length_unit}\"\n",
    "    if 'GrossFootprintArea' in base_quantities:\n",
    "        base_quantities['GrossFootprintArea'] = f\"{base_quantities['GrossFootprintArea']} {area_unit}\"\n",
    "    if 'NetVolume' in base_quantities:\n",
    "        base_quantities['NetVolume'] = f\"{base_quantities['NetVolume']} {volume_unit}\"\n",
    "    if 'NetSideArea' in base_quantities:\n",
    "        base_quantities['NetSideArea'] = f\"{base_quantities['NetSideArea']} {area_unit}\"\n",
    "\n",
    "    return base_quantities\n"
   ]
  },
  {
   "cell_type": "code",
   "execution_count": null,
   "metadata": {},
   "outputs": [],
   "source": [
    "# Extract base quantities for the wall\n",
    "wall_base_quantities = extract_base_quantities(wall)\n",
    "print(\"Base Quantities (Before appending units):\")\n",
    "print(wall_base_quantities)\n",
    "\n",
    "# Get project units\n",
    "units = get_unit_of_project(model)\n",
    "print(\"\\nProject Units:\")\n",
    "print(units)\n",
    "\n",
    "# Append units to the base quantities\n",
    "wall_base_quantities_with_units = append_units_to_quantities(wall_base_quantities, units)\n",
    "print(\"\\nBase Quantities (After appending units):\")\n",
    "print(wall_base_quantities_with_units)"
   ]
  },
  {
   "cell_type": "markdown",
   "metadata": {},
   "source": [
    "### Extract building level of the wall\n",
    "We will extract the building level of the wall to help us understand the location of the wall in the building."
   ]
  },
  {
   "cell_type": "code",
   "execution_count": null,
   "metadata": {},
   "outputs": [],
   "source": [
    "def extract_element_level(element):\n",
    "    \"\"\"Extract the level (building storey) of a given element.\"\"\"\n",
    "    for rel in element.ContainedInStructure:\n",
    "        if rel.is_a('IfcRelContainedInSpatialStructure'):\n",
    "            relating_structure = rel.RelatingStructure\n",
    "            if relating_structure.is_a('IfcBuildingStorey'):\n",
    "                return relating_structure.Name\n",
    "    return None"
   ]
  },
  {
   "cell_type": "code",
   "execution_count": null,
   "metadata": {},
   "outputs": [],
   "source": [
    "wall = extract_walls(model)[0]\n",
    "level = extract_element_level(wall)\n",
    "print(level)"
   ]
  },
  {
   "cell_type": "markdown",
   "metadata": {},
   "source": [
    "### Create Material Passport for the walls"
   ]
  },
  {
   "cell_type": "code",
   "execution_count": null,
   "metadata": {},
   "outputs": [],
   "source": [
    "def create_material_passport(model):\n",
    "    \"\"\"Create a material passport for all wall elements in the IFC file.\"\"\"\n",
    "    walls = extract_walls(model)\n",
    "    material_passport = []\n",
    "\n",
    "    # Get project units\n",
    "    units = get_unit_of_project(model)\n",
    "\n",
    "    for wall in walls:\n",
    "        wall_data = {'WallID': wall.GlobalId}\n",
    "\n",
    "        # Extract PsetWallCommon properties and add to wall_data\n",
    "        pset_wall_common = extract_pset_wall_common(wall)\n",
    "        wall_data.update(pset_wall_common)\n",
    "\n",
    "        # Extract base quantities and append units\n",
    "        base_quantities = extract_base_quantities(wall)\n",
    "        base_quantities_with_units = append_units_to_quantities(base_quantities, units)\n",
    "        wall_data.update(base_quantities_with_units)\n",
    "\n",
    "        # Extract level and add to wall_data\n",
    "        level = extract_element_level(wall)\n",
    "        wall_data['Level'] = level\n",
    "\n",
    "        # Extract material and add to wall_data\n",
    "        materials_info = extract_material(wall)\n",
    "        for material_info in materials_info:\n",
    "            material_passport.append({\n",
    "                'WallID': wall.GlobalId,\n",
    "                'Material': material_info['Material'],\n",
    "                'LayerThickness': f\"{material_info['LayerThickness']} {units.get('LENGTHUNIT', 'mm')}\" if material_info['LayerThickness'] is not None else None,\n",
    "                'Level': level,\n",
    "                **pset_wall_common,\n",
    "                **base_quantities_with_units\n",
    "            })\n",
    "\n",
    "    return pd.DataFrame(material_passport)"
   ]
  },
  {
   "cell_type": "code",
   "execution_count": null,
   "metadata": {},
   "outputs": [],
   "source": [
    "material_passport = create_material_passport(model)\n",
    "material_passport.head()"
   ]
  },
  {
   "cell_type": "markdown",
   "metadata": {},
   "source": [
    "#### Visualize the Material Passport"
   ]
  },
  {
   "cell_type": "code",
   "execution_count": null,
   "metadata": {},
   "outputs": [],
   "source": [
    "import pandas as pd\n",
    "import matplotlib.pyplot as plt\n",
    "import seaborn as sns"
   ]
  },
  {
   "cell_type": "code",
   "execution_count": null,
   "metadata": {},
   "outputs": [],
   "source": [
    "def visualize_walls_by_properties(material_passport, properties):\n",
    "    \"\"\"Visualize the count of walls by given properties in a 2x2 grid on a single canvas.\"\"\"\n",
    "    num_properties = len(properties)\n",
    "    nrows = 2\n",
    "    ncols = 2\n",
    "    fig, axes = plt.subplots(nrows=nrows, ncols=ncols, figsize=(14, 10))\n",
    "\n",
    "    for ax, property_name in zip(axes.flat, properties):\n",
    "        sns.countplot(data=material_passport, x=property_name, order=material_passport[property_name].value_counts().index, ax=ax)\n",
    "        ax.set_title(f'Count of Walls by {property_name}')\n",
    "        ax.set_xlabel(property_name)\n",
    "        ax.set_ylabel('Count of Walls')\n",
    "        for label in ax.get_xticklabels():\n",
    "            label.set_rotation(45)\n",
    "    \n",
    "    # Hide any unused subplots\n",
    "    for i in range(num_properties, nrows * ncols):\n",
    "        fig.delaxes(axes.flat[i])\n",
    "    \n",
    "    plt.tight_layout()\n",
    "    plt.show()\n"
   ]
  },
  {
   "cell_type": "code",
   "execution_count": null,
   "metadata": {},
   "outputs": [],
   "source": [
    "properties_to_visualize = ['IsExternal', 'LoadBearing', 'Material', 'Level']\n",
    "visualize_walls_by_properties(material_passport, properties_to_visualize)\n"
   ]
  },
  {
   "cell_type": "markdown",
   "metadata": {},
   "source": [
    "#### Export to CSV"
   ]
  },
  {
   "cell_type": "code",
   "execution_count": null,
   "metadata": {},
   "outputs": [],
   "source": [
    "## Save the material passport to a CSV file\n",
    "material_passport.to_csv('material_passport.csv', index=False)"
   ]
  }
 ],
 "metadata": {
  "kernelspec": {
   "display_name": ".venv",
   "language": "python",
   "name": "python3"
  },
  "language_info": {
   "codemirror_mode": {
    "name": "ipython",
    "version": 3
   },
   "file_extension": ".py",
   "mimetype": "text/x-python",
   "name": "python",
   "nbconvert_exporter": "python",
   "pygments_lexer": "ipython3",
   "version": "3.9.6"
  }
 },
 "nbformat": 4,
 "nbformat_minor": 2
}
